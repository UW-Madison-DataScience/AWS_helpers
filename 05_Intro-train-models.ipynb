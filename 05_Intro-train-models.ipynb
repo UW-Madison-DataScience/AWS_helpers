{
 "cells": [
  {
   "cell_type": "markdown",
   "id": "bef72914-4f7a-41b8-a84f-15a0e438dd59",
   "metadata": {},
   "source": [
    "## Initialize SageMaker environment\n",
    "\n",
    "This code initializes the AWS SageMaker environment by defining the SageMaker role, session, and S3 client. It also specifies the S3 bucket and key for accessing the Titanic training dataset stored in an S3 bucket.\n",
    "\n",
    "#### Boto3 API\n",
    "> Boto3 is the official AWS SDK for Python, allowing developers to interact programmatically with AWS services like S3, EC2, and Lambda. It provides both high-level and low-level APIs, making it easy to manage AWS resources and automate tasks. With built-in support for paginators, waiters, and session management, Boto3 simplifies working with AWS credentials, regions, and IAM permissions. It’s ideal for automating cloud operations and integrating AWS services into Python applications."
   ]
  },
  {
   "cell_type": "code",
   "execution_count": 1,
   "id": "054fc92d-acab-40c5-88cc-f590e322f053",
   "metadata": {
    "tags": []
   },
   "outputs": [
    {
     "name": "stdout",
     "output_type": "stream",
     "text": [
      "sagemaker.config INFO - Not applying SDK defaults from location: /etc/xdg/sagemaker/config.yaml\n",
      "sagemaker.config INFO - Not applying SDK defaults from location: /home/ec2-user/.config/sagemaker/config.yaml\n",
      "role = arn:aws:iam::183295408236:role/ml-sagemaker-use\n"
     ]
    }
   ],
   "source": [
    "import boto3\n",
    "import pandas as pd\n",
    "import sagemaker\n",
    "from sagemaker import get_execution_role\n",
    "\n",
    "# Initialize the SageMaker role (will reflect notebook instance's policy)\n",
    "role = sagemaker.get_execution_role()\n",
    "print(f'role = {role}')\n",
    "\n",
    "# Create a SageMaker session to manage interactions with Amazon SageMaker, such as training jobs, model deployments, and data input/output.\n",
    "session = sagemaker.Session()\n",
    "\n",
    "# Initialize an S3 client to interact with Amazon S3, allowing operations like uploading, downloading, and managing objects and buckets.\n",
    "s3 = boto3.client('s3')\n",
    "\n",
    "# Define the S3 bucket that we will load from\n",
    "bucket = 'titanic-dataset-test'  # replace with your S3 bucket name\n",
    "\n",
    "# Define train/test filenames\n",
    "train_filename = 'titanic_train.csv'\n",
    "test_filename = 'titanic_test.csv'"
   ]
  },
  {
   "cell_type": "markdown",
   "id": "8f241bb7-7ad8-4a3c-bf88-bc82e28c6923",
   "metadata": {},
   "source": [
    "### Download copy into notebook environment\n",
    "If you have larger dataset (> 1GB), you may want to skip this step and always read directly into memory. However, for smaller datasets, it can be convenient to have a \"local\" copy (i.e., one that you store in your notebook's instance).\n",
    "\n",
    "Download data from S3 to notebook environment. You may need to hit refresh on the file explorer panel to the left to see this file. If you get any permission issues...\n",
    "\n",
    "* check that you have selected the appropriate policy for this notebook\n",
    "* check that your bucket has the appropriate policy permissions"
   ]
  },
  {
   "cell_type": "code",
   "execution_count": 2,
   "id": "44edeebe-6af2-411d-a389-2b50fa648cd5",
   "metadata": {
    "tags": []
   },
   "outputs": [
    {
     "name": "stdout",
     "output_type": "stream",
     "text": [
      "File downloaded: ./titanic_train.csv\n"
     ]
    }
   ],
   "source": [
    "# Define the S3 bucket and file location\n",
    "file_key = f\"data/{train_filename}\"  # Path to your file in the S3 bucket\n",
    "local_file_path = f\"./{train_filename}\"  # Local path to save the file\n",
    "\n",
    "# Download the file using the s3 client variable we initialized earlier\n",
    "s3.download_file(bucket, file_key, local_file_path)\n",
    "print(\"File downloaded:\", local_file_path)"
   ]
  },
  {
   "cell_type": "markdown",
   "id": "cd136750-a3be-409e-92d8-5430f70d68cf",
   "metadata": {},
   "source": [
    "We can do the same for the test set."
   ]
  },
  {
   "cell_type": "code",
   "execution_count": 3,
   "id": "253f4930-ca36-49ea-a2eb-fbb29826a394",
   "metadata": {
    "tags": []
   },
   "outputs": [
    {
     "name": "stdout",
     "output_type": "stream",
     "text": [
      "File downloaded: ./titanic_test.csv\n"
     ]
    }
   ],
   "source": [
    "# Define the S3 bucket and file location\n",
    "file_key = f\"data/{test_filename}\"  # Path to your file in the S3 bucket. W\n",
    "local_file_path = f\"./{test_filename}\"  # Local path to save the file\n",
    "\n",
    "# Initialize the S3 client and download the file\n",
    "s3.download_file(bucket, file_key, local_file_path)\n",
    "print(\"File downloaded:\", local_file_path)\n"
   ]
  },
  {
   "cell_type": "markdown",
   "id": "2b982df2-e8a7-498c-9ba6-fbaa41ae8bef",
   "metadata": {},
   "source": [
    "### Get code (train and tune scripts) from git repo. \n",
    "We recommend you DO NOT put data inside your code repo, as version tracking for data files takes up unnecessary storage in this notebook instance. Instead, store your data in a separte S3 bucket. We have a data folder in our repo only as a means to initially hand you the data for this tutorial. "
   ]
  },
  {
   "cell_type": "markdown",
   "id": "f701518c-49fc-4248-a4dc-fe6106e3d99e",
   "metadata": {},
   "source": [
    "Check to make sure we're in our EC2 root folder (`/home/ec2-user/SageMaker`)."
   ]
  },
  {
   "cell_type": "code",
   "execution_count": 4,
   "id": "cdb1e5e9-fdaf-4aea-bf1f-c562923328f5",
   "metadata": {
    "tags": []
   },
   "outputs": [
    {
     "name": "stdout",
     "output_type": "stream",
     "text": [
      "/home/ec2-user/SageMaker/test_AWS\n"
     ]
    }
   ],
   "source": [
    "!pwd"
   ]
  },
  {
   "cell_type": "markdown",
   "id": "68f542e1-451e-46f0-9dfc-cad1a4ec434c",
   "metadata": {},
   "source": [
    "If not, change directory using `%cd `."
   ]
  },
  {
   "cell_type": "code",
   "execution_count": 5,
   "id": "d4c0118b-a9ad-418a-9353-f7d61e0d401e",
   "metadata": {
    "tags": []
   },
   "outputs": [
    {
     "name": "stdout",
     "output_type": "stream",
     "text": [
      "/home/ec2-user/SageMaker\n",
      "/home/ec2-user/SageMaker\n"
     ]
    }
   ],
   "source": [
    "%cd /home/ec2-user/SageMaker/\n",
    "!pwd"
   ]
  },
  {
   "cell_type": "code",
   "execution_count": 6,
   "id": "f0e0a5c3-aaf3-4662-81bf-f385f3328b94",
   "metadata": {
    "tags": []
   },
   "outputs": [
    {
     "name": "stdout",
     "output_type": "stream",
     "text": [
      "fatal: destination path 'test_AWS' already exists and is not an empty directory.\n"
     ]
    }
   ],
   "source": [
    "!git clone https://github.com/UW-Madison-DataScience/test_AWS.git"
   ]
  },
  {
   "cell_type": "markdown",
   "id": "b5b2dd11-0a87-4f34-bf1e-f473a4900d99",
   "metadata": {},
   "source": [
    "### Testing train.py on this notebook's instance\n",
    "Notebook instances in SageMaker allow us allocate more powerful instances (or many instances) to machine learning jobs that require extra power, GPUs, or benefit from parallelization. Before we try exploiting this extra power, it is essential that we test our code thoroughly. We don't want to waste unnecessary compute cycles and resources on jobs that produce bugs instead of insights. If you need to, you can use a subset of your data to run quicker tests. You can also select a slightly better instance resource if your current instance insn't meeting your needs. See the [Instances for ML spreadsheet](https://docs.google.com/spreadsheets/d/1uPT4ZAYl_onIl7zIjv5oEAdwy4Hdn6eiA9wVfOBbHmY/edit?usp=sharing) for guidance. \n",
    "\n",
    "#### Logging runtime & instance info\n",
    "To compare our local runtime with future experiments, we'll need to know what instance was used, as this will greatly impact runtime in many cases. We can extract the instance name for this notebook using..."
   ]
  },
  {
   "cell_type": "code",
   "execution_count": 7,
   "id": "600eae82-5122-4eeb-9f0f-2752e8623a48",
   "metadata": {
    "tags": []
   },
   "outputs": [
    {
     "name": "stdout",
     "output_type": "stream",
     "text": [
      "Notebook Instance 'Titanic-ML-Notebook' status: InService\n",
      "Instance Type: ml.t3.medium\n"
     ]
    }
   ],
   "source": [
    "# Replace with your notebook instance name.\n",
    "# This does NOT refer to specific ipynb fils, but to the notebook instance opened from SageMaker.\n",
    "notebook_instance_name = 'Titanic-ML-Notebook'\n",
    "\n",
    "# Initialize SageMaker client\n",
    "sagemaker_client = boto3.client('sagemaker')\n",
    "\n",
    "# Describe the notebook instance\n",
    "response = sagemaker_client.describe_notebook_instance(NotebookInstanceName=notebook_instance_name)\n",
    "\n",
    "# Display the status and instance type\n",
    "print(f\"Notebook Instance '{notebook_instance_name}' status: {response['NotebookInstanceStatus']}\")\n",
    "local_instance = response['InstanceType']\n",
    "print(f\"Instance Type: {local_instance}\")\n"
   ]
  },
  {
   "cell_type": "markdown",
   "id": "02ffeda5-a942-415c-ad74-a0deff0e7900",
   "metadata": {},
   "source": [
    "#### Helper:  `get_notebook_instance_info()` \n",
    "You can also use the `get_notebook_instance_info()` function found in `AWS_helpers.py` to retrieve this info for your own project."
   ]
  },
  {
   "cell_type": "code",
   "execution_count": 8,
   "id": "adafa93a-17d0-4dc5-9656-a8c9eeb65010",
   "metadata": {
    "tags": []
   },
   "outputs": [
    {
     "data": {
      "text/plain": [
       "{'Status': 'InService', 'InstanceType': 'ml.t3.medium'}"
      ]
     },
     "execution_count": 8,
     "metadata": {},
     "output_type": "execute_result"
    }
   ],
   "source": [
    "from test_AWS.scripts.AWS_helpers import get_notebook_instance_info\n",
    "get_notebook_instance_info(notebook_instance_name)"
   ]
  },
  {
   "cell_type": "markdown",
   "id": "decb7ac7-1dff-429e-9cc1-f82a82874ef5",
   "metadata": {},
   "source": [
    "Test train.py on this notebook's instance (or when possible, on your own machine) before doing anything more complicated (e.g., hyperparameter tuning on multiple instances)"
   ]
  },
  {
   "cell_type": "code",
   "execution_count": 9,
   "id": "d0dfc29a-e095-464e-b173-c61c51f33f5f",
   "metadata": {
    "tags": []
   },
   "outputs": [
    {
     "name": "stdout",
     "output_type": "stream",
     "text": [
      "Requirement already satisfied: xgboost in /home/ec2-user/anaconda3/envs/pytorch_p310/lib/python3.10/site-packages (2.1.2)\n",
      "Requirement already satisfied: numpy in /home/ec2-user/anaconda3/envs/pytorch_p310/lib/python3.10/site-packages (from xgboost) (1.26.4)\n",
      "Requirement already satisfied: scipy in /home/ec2-user/anaconda3/envs/pytorch_p310/lib/python3.10/site-packages (from xgboost) (1.14.1)\n"
     ]
    }
   ],
   "source": [
    "!pip install xgboost # need to add this to environment to run train.py"
   ]
  },
  {
   "cell_type": "markdown",
   "id": "d443ede9-4e4a-4daf-9f55-93e843407c04",
   "metadata": {},
   "source": [
    "Here’s what each argument does in detail for the below call to train_xgboost.py:\n",
    "\n",
    "- `--max_depth 5`: Sets the maximum depth of each tree in the model to 5. Limiting tree depth helps control model complexity and can reduce overfitting, especially on small datasets.\n",
    "  \n",
    "- `--eta 0.1`: Sets the learning rate to 0.1, which scales the contribution of each tree to the final model. A smaller learning rate often requires more rounds to converge but can lead to better performance.\n",
    "\n",
    "- `--subsample 0.8`: Specifies that 80% of the training data will be randomly sampled to build each tree. Subsampling can help with model robustness by preventing overfitting and increasing variance.\n",
    "\n",
    "- `--colsample_bytree 0.8`: Specifies that 80% of the features will be randomly sampled for each tree, enhancing the model's ability to generalize by reducing feature reliance.\n",
    "\n",
    "- `--num_round 100`: Sets the number of boosting rounds (trees) to 100. More rounds typically allow for a more refined model, but too many rounds can lead to overfitting.\n",
    "\n",
    "- `--train ./train.csv`: Points to the location of the training data, `train.csv`, which will be used to train the model.\n"
   ]
  },
  {
   "cell_type": "code",
   "execution_count": 10,
   "id": "666a5d25-4542-4c77-9280-bff280d0306c",
   "metadata": {
    "tags": []
   },
   "outputs": [
    {
     "name": "stdout",
     "output_type": "stream",
     "text": [
      "Train size: (569, 8)\n",
      "Val size: (143, 8)\n",
      "Training time: 0.06 seconds\n",
      "Model saved to ./xgboost-model\n",
      "Total local runtime: 1.01 seconds, instance_type = ml.t3.medium\n"
     ]
    },
    {
     "name": "stderr",
     "output_type": "stream",
     "text": [
      "/home/ec2-user/anaconda3/envs/pytorch_p310/lib/python3.10/site-packages/xgboost/core.py:265: FutureWarning: Your system has an old version of glibc (< 2.28). We will stop supporting Linux distros with glibc older than 2.28 after **May 31, 2025**. Please upgrade to a recent Linux distro (with glibc 2.28+) to use future versions of XGBoost.\n",
      "Note: You have installed the 'manylinux2014' variant of XGBoost. Certain features such as GPU algorithms or federated learning are not available. To use these features, please upgrade to a recent Linux distro with glibc 2.28+, and install the 'manylinux_2_28' variant.\n",
      "  warnings.warn(\n"
     ]
    }
   ],
   "source": [
    "import time as t # we'll use the time package to measure runtime\n",
    "\n",
    "start_time = t.time()\n",
    "\n",
    "# Run the script and pass arguments directly\n",
    "%run test_AWS/scripts/train_xgboost.py --max_depth 5 --eta 0.1 --subsample 0.8 --colsample_bytree 0.8 --num_round 100 --train ./titanic_train.csv\n",
    "\n",
    "# Measure and print the time taken\n",
    "print(f\"Total local runtime: {t.time() - start_time:.2f} seconds, instance_type = {local_instance}\")\n"
   ]
  },
  {
   "cell_type": "markdown",
   "id": "24f11e0c-660e-48f0-84eb-1ce15a8856d2",
   "metadata": {},
   "source": [
    "Training on this relatively small dataset should take less than a minute, but as we scale up with larger datasets and more complex models in SageMaker, tracking both training time and total runtime becomes essential for efficient debugging and resource management.\n",
    "\n",
    "**Note**: Our training script includes print statements to monitor dataset size and track time spent specifically on training, which provides insights into resource usage for model development. We recommend incorporating similar logging to track not only training time but also total runtime, which includes additional steps like data loading, evaluation, and saving results. Tracking both can help you pinpoint bottlenecks and optimize your workflow as projects grow in size and complexity, especially when scaling with SageMaker’s distributed resources."
   ]
  },
  {
   "cell_type": "markdown",
   "id": "12dc041f-8b11-44e9-b310-e86291457c48",
   "metadata": {},
   "source": [
    "## Training via SageMaker (using notebook as controller) - custom train.py script\n",
    "Unlike \"local\" training (using this notebook), this next approach leverages SageMaker’s managed infrastructure to handle resources, parallelism, and scalability. By specifying instance parameters, such as instance_count and instance_type, you can control the resources allocated for training.\n",
    "\n",
    "In this example, we start with one ml.m5.large instance, which is suitable for small- to medium-sized datasets and simpler models. Using a single instance is often cost-effective and sufficient for initial testing, allowing for straightforward scaling up to more powerful instance types or multiple instances if training takes too long. See here for further guidance on selecting an appropriate instance for your data/model: [EC2 Instances for ML](https://docs.google.com/spreadsheets/d/1uPT4ZAYl_onIl7zIjv5oEAdwy4Hdn6eiA9wVfOBbHmY/edit?usp=sharing)\n",
    "\n",
    "\n",
    "### Overview of Estimator Classes in SageMaker\n",
    "In SageMaker, **Estimator** classes streamline the configuration and training of models on managed instances. Each Estimator can work with custom scripts and be enhanced with additional dependencies by specifying a `requirements.txt` file, which is automatically installed at the start of training. Here’s a breakdown of some commonly used Estimator classes in SageMaker:\n",
    "\n",
    "#### 1. **`Estimator` (Base Class)**\n",
    "   - **Purpose**: General-purpose for custom Docker containers or defining an image URI directly.\n",
    "   - **Configuration**: Requires specifying an `image_uri` and custom entry points.\n",
    "   - **Dependencies**: You can use `requirements.txt` to install Python packages or configure a custom Docker container with pre-baked dependencies.\n",
    "   - **Ideal Use Cases**: Custom algorithms or models that need tailored environments not covered by built-in containers.\n",
    "\n",
    "#### 2. **`XGBoost` Estimator**\n",
    "   - **Purpose**: Provides an optimized container specifically for XGBoost models.\n",
    "   - **Configuration**:\n",
    "      - `entry_point`: Path to a custom script, useful for additional preprocessing or unique training workflows.\n",
    "      - `framework_version`: Select XGBoost version, e.g., `\"1.5-1\"`.\n",
    "      - `dependencies`: Specify additional packages through `requirements.txt` to enhance preprocessing capabilities or incorporate auxiliary libraries.\n",
    "   - **Ideal Use Cases**: Tabular data modeling using gradient-boosted trees; cases requiring custom preprocessing or tuning logic.\n",
    "\n",
    "#### 3. **`PyTorch` Estimator**\n",
    "   - **Purpose**: Configures training jobs with PyTorch for deep learning tasks.\n",
    "   - **Configuration**:\n",
    "      - `entry_point`: Training script with model architecture and training loop.\n",
    "      - `instance_type`: e.g., `ml.p3.2xlarge` for GPU acceleration.\n",
    "      - `framework_version` and `py_version`: Define specific versions.\n",
    "      - `dependencies`: Install any required packages via `requirements.txt` to support advanced data processing, data augmentation, or custom layer implementations.\n",
    "   - **Ideal Use Cases**: Deep learning models, particularly complex networks requiring GPUs and custom layers.\n",
    "\n",
    "#### 4. **`SKLearn` Estimator**\n",
    "   - **Purpose**: Supports scikit-learn workflows for data preprocessing and classical machine learning.\n",
    "   - **Configuration**:\n",
    "      - `entry_point`: Python script to handle feature engineering, preprocessing, or training.\n",
    "      - `framework_version`: Version of scikit-learn, e.g., `\"1.0-1\"`.\n",
    "      - `dependencies`: Use `requirements.txt` to install any additional Python packages required by the training script.\n",
    "   - **Ideal Use Cases**: Classical ML workflows, extensive preprocessing, or cases where additional libraries (e.g., pandas, numpy) are essential.\n",
    "\n",
    "#### 5. **`TensorFlow` Estimator**\n",
    "   - **Purpose**: Designed for training and deploying TensorFlow models.\n",
    "   - **Configuration**:\n",
    "      - `entry_point`: Script for model definition and training process.\n",
    "      - `instance_type`: Select based on dataset size and computational needs.\n",
    "      - `dependencies`: Additional dependencies can be listed in `requirements.txt` to install TensorFlow add-ons, custom layers, or preprocessing libraries.\n",
    "   - **Ideal Use Cases**: NLP, computer vision, and transfer learning applications in TensorFlow.\n",
    "\n",
    "---\n",
    "\n",
    "#### Configuring Custom Environments with `requirements.txt`\n",
    "\n",
    "For all these Estimators, adding a `requirements.txt` file under `dependencies` ensures that additional packages are installed before training begins. This approach allows the use of specific libraries that may be critical for custom preprocessing, feature engineering, or model modifications. Here’s how to include it:\n",
    "\n",
    "```python\n",
    "sklearn_estimator = SKLearn(\n",
    "    entry_point=\"train_script.py\",\n",
    "    role=role,\n",
    "    instance_count=1,\n",
    "    instance_type=\"ml.m5.large\",\n",
    "    output_path=\"s3://your-bucket/output\",\n",
    "    framework_version=\"1.0-1\",\n",
    "    dependencies=['requirements.txt'],  # Adding custom dependencies\n",
    "    hyperparameters={\n",
    "        \"max_depth\": 5,\n",
    "        \"eta\": 0.1,\n",
    "        \"subsample\": 0.8,\n",
    "        \"num_round\": 100\n",
    "    }\n",
    ")\n",
    "```\n",
    "\n",
    "This setup simplifies training, allowing you to maintain custom environments directly within SageMaker’s managed containers, without needing to build and manage your own Docker images.\n",
    "\n",
    "---\n",
    "\n",
    "### More information on pre-built environments\n",
    "he [AWS SageMaker Documentation](https://docs.aws.amazon.com/sagemaker/latest/dg/pre-built-containers-frameworks-deep-learning.html) provides lists of pre-built container images for each framework and their standard libraries, including details on pre-installed packages.\n",
    "      \n",
    "---\n",
    "For this deployment, we configure the \"XGBoost\" estimator with a custom training script, train_xgboost.py, and define hyperparameters directly within the SageMaker setup. Here’s the full code, with some additional explanation following the code."
   ]
  },
  {
   "cell_type": "code",
   "execution_count": null,
   "id": "1c181a9e-912d-43d7-baea-bf2419e0432f",
   "metadata": {
    "scrolled": true,
    "tags": []
   },
   "outputs": [
    {
     "name": "stderr",
     "output_type": "stream",
     "text": [
      "INFO:sagemaker:Creating training-job with name: sagemaker-xgboost-2024-11-03-21-10-03-577\n"
     ]
    },
    {
     "name": "stdout",
     "output_type": "stream",
     "text": [
      "2024-11-03 21:10:05 Starting - Starting the training job.."
     ]
    }
   ],
   "source": [
    "from sagemaker.inputs import TrainingInput\n",
    "from sagemaker.xgboost.estimator import XGBoost\n",
    "\n",
    "# Define instance type/count we'll use for training\n",
    "instance_type=\"ml.m5.large\"\n",
    "instance_count=1 # always start with 1. Rarely is parallelized training justified with data < 50 GB.\n",
    "\n",
    "# Define S3 paths for input and output\n",
    "train_s3_path = f's3://{bucket}/data/{train_filename}'\n",
    "\n",
    "# we'll store all results in a subfolder called xgboost on our bucket. This folder will automatically be created if it doesn't exist already.\n",
    "output_folder = 'xgboost'\n",
    "output_path = f's3://{bucket}/{output_folder}/' \n",
    "\n",
    "# Set up the SageMaker XGBoost Estimator with custom script\n",
    "xgboost_estimator = XGBoost(\n",
    "    entry_point='train_xgboost.py',      # Custom script path\n",
    "    source_dir='test_AWS/scripts',               # Directory where your script is located\n",
    "    role=role,\n",
    "    instance_count=instance_count,\n",
    "    instance_type=instance_type,\n",
    "    output_path=output_path,\n",
    "    sagemaker_session=session,\n",
    "    framework_version=\"1.5-1\",           # Use latest supported version for better compatibility\n",
    "    hyperparameters={\n",
    "        'train': 'titanic_train.csv',\n",
    "        'max_depth': 5,\n",
    "        'eta': 0.1,\n",
    "        'subsample': 0.8,\n",
    "        'colsample_bytree': 0.8,\n",
    "        'num_round': 100\n",
    "    }\n",
    ")\n",
    "\n",
    "# Define input data\n",
    "train_input = TrainingInput(train_s3_path, content_type='csv')\n",
    "\n",
    "# Measure and start training time\n",
    "start = t.time()\n",
    "xgboost_estimator.fit({'train': train_input})\n",
    "end = t.time()\n",
    "\n",
    "print(f\"Runtime for training on SageMaker: {end - start:.2f} seconds, instance_type: {instance_type}, instance_count: {instance_count}\")\n"
   ]
  },
  {
   "cell_type": "markdown",
   "id": "06471756-048e-488d-a2d0-0684febe10c6",
   "metadata": {
    "tags": []
   },
   "source": [
    "#### Hyperparameters\n",
    ">The `hyperparameters` section in this code defines key parameters for the XGBoost model, such as `max_depth`, `eta`, `subsample`, `colsample_bytree`, and `num_round`, which control aspects of the model like tree depth, learning rate, and data sampling, directly impacting model performance and training time. \n",
    "> \n",
    "> Additionally, we define a `train_file` hyperparameter to pass the dataset’s S3 path to `train_xgboost.py`, allowing the script to access this path directly. When running the training job, SageMaker passes these values to `train_xgboost.py` as command-line arguments, making them accessible in the script via `argparse` or similar methods. This setup enables flexible tuning of model parameters and data paths directly from the training configuration, without needing modifications in the script itself.\n"
   ]
  },
  {
   "cell_type": "markdown",
   "id": "0f252346-7090-455a-a96f-8e9b0e63244c",
   "metadata": {},
   "source": [
    "#### Why do we need a train hyperparameter in addition to TrainingInput?\n",
    ">  The `TrainingInput` in SageMaker isn't just about providing the data path for your script. It actually sets up a **data channel** that allows SageMaker to manage, validate, and automatically transfer your data from S3 to the training instance. Here’s how it works:\n",
    "> 1. **Data Download**: SageMaker uses `TrainingInput` to download your dataset from S3 to a temporary location on the training instance. This location is mounted and managed by SageMaker and can be accessed by the training job if needed.\n",
    "> 2. **Environment Setup**: Using `TrainingInput` also configures the job environment. For example, the path specified in `TrainingInput` (e.g., under `'train'`) becomes an environment variable (`SM_CHANNEL_TRAIN`), which points to the downloaded data location on the training instance.\n",
    "> 3. **Data Management**: SageMaker can manage and track data inputs independently of your script, which is especially useful for distributed training or when using managed algorithms.\n",
    "> ##### Why Use Both?\n",
    "> If your script is designed to handle the data directly (e.g., by downloading it from an S3 path), the **data path you pass as a hyperparameter** can handle this. However, SageMaker still needs `TrainingInput` to manage and configure the environment and data resources properly.\n",
    "> - **`TrainingInput`**: Required by SageMaker for managing the data channel, downloading data to the instance, and setting up the training environment.\n",
    "> - **Hyperparameter with S3 Path**: Necessary for your custom script to handle the dataset directly.\n"
   ]
  },
  {
   "cell_type": "markdown",
   "id": "d1190ce6-3c45-442c-a39e-32a00b1d01a9",
   "metadata": {
    "jp-MarkdownHeadingCollapsed": true,
    "tags": []
   },
   "source": [
    "#### Model results\n",
    "> With this code, the training results and model artifacts are saved in a subfolder called `xgboost` in your specified S3 bucket. This folder (`s3://{bucket}/xgboost/`) will be automatically created if it doesn’t already exist, and will contain:\n",
    "> \n",
    "> 1. **Model Artifacts**: The trained model file (often a `.tar.gz` file) that SageMaker saves in the `output_path`.\n",
    "> 2. **Logs and Metrics**: Any metrics and logs related to the training job, stored in the same `xgboost` folder.\n",
    "> \n",
    "> This setup allows for convenient access to both the trained model and related output for later evaluation or deployment."
   ]
  },
  {
   "cell_type": "markdown",
   "id": "15496aa3-2311-46e8-96f6-575822a392fd",
   "metadata": {},
   "source": [
    "### Extracting trained model from S3 for final evaluation\n",
    "To evaluate the model on a test set after training, we’ll go through these steps:\n",
    "\n",
    "1. **Download the trained model from S3**.\n",
    "2. **Load and preprocess** the test dataset. \n",
    "3. **Evaluate** the model on the test data.\n",
    "\n",
    "Here’s how you can implement this in your SageMaker notebook. The following code will:\n",
    "\n",
    "- Download the `model.tar.gz` file containing the trained model from S3.\n",
    "- Load the `test.csv` data from S3 and preprocess it as needed.\n",
    "- Use the XGBoost model to make predictions on the test set and then compute accuracy or other metrics on the results. \n",
    "\n",
    "If additional metrics or custom evaluation steps are needed, you can add them in place of or alongside accuracy."
   ]
  },
  {
   "cell_type": "code",
   "execution_count": null,
   "id": "caa4a272-e8ff-4eef-ba3e-cb29f1e88c85",
   "metadata": {
    "tags": []
   },
   "outputs": [],
   "source": [
    "# Model results are saved in auto-generated folders. Use xgboost_estimator.latest_training_job.name to get the folder name\n",
    "model_s3_path = f'{output_folder}/{xgboost_estimator.latest_training_job.name}/output/model.tar.gz'\n",
    "print(model_s3_path)\n",
    "local_model_path = 'model.tar.gz'\n",
    "\n",
    "# Download the trained model from S3\n",
    "s3.download_file(bucket, model_s3_path, local_model_path)\n",
    "\n",
    "# Extract the model file\n",
    "import tarfile\n",
    "with tarfile.open(local_model_path) as tar:\n",
    "    tar.extractall()"
   ]
  },
  {
   "cell_type": "code",
   "execution_count": null,
   "id": "1ac08164-4383-4460-8181-ea096451dde2",
   "metadata": {
    "tags": []
   },
   "outputs": [],
   "source": [
    "# Load the test set. We downloaded this earlier from our S3 bucket.\n",
    "test_data = pd.read_csv(test_filename)"
   ]
  },
  {
   "cell_type": "code",
   "execution_count": null,
   "id": "94f46e27-8983-4446-997c-6a9774ff07d1",
   "metadata": {
    "tags": []
   },
   "outputs": [],
   "source": [
    "test_data.head()"
   ]
  },
  {
   "cell_type": "code",
   "execution_count": null,
   "id": "990f9eb3-e22b-4eae-9801-b7472d565fe6",
   "metadata": {
    "tags": []
   },
   "outputs": [],
   "source": [
    "# Preprocess the test set to match the training setup\n",
    "from test_AWS.scripts.train_xgboost import preprocess_data\n",
    "X_test, y_test = preprocess_data(test_data)"
   ]
  },
  {
   "cell_type": "code",
   "execution_count": null,
   "id": "add8e3e4-63d1-428c-aaa0-c5fd1542c591",
   "metadata": {
    "tags": []
   },
   "outputs": [],
   "source": [
    "import pandas as pd\n",
    "import xgboost as xgb\n",
    "import numpy as np\n",
    "import joblib\n",
    "from sklearn.metrics import accuracy_score\n",
    "\n",
    "# Load the trained model using joblib\n",
    "model = joblib.load(\"xgboost-model\")\n",
    "\n",
    "# Assume X_test and y_test are defined\n",
    "# Create DMatrix for X_test for XGBoost prediction compatibility\n",
    "dmatrix_test = xgb.DMatrix(X_test)\n",
    "\n",
    "# Make predictions on the test set\n",
    "preds = model.predict(dmatrix_test)\n",
    "predictions = np.round(preds)  # Round to 0 or 1 for classification\n",
    "\n",
    "# Calculate accuracy or any other relevant metrics\n",
    "accuracy = accuracy_score(y_test, predictions)\n",
    "print(f\"Test Set Accuracy: {accuracy:.4f}\")\n"
   ]
  },
  {
   "cell_type": "markdown",
   "id": "37708acf-7e2b-4dc4-8cb6-4bfecb1d68e5",
   "metadata": {},
   "source": [
    "Now that we’ve covered training using a custom script with the `XGBoost` estimator, let’s examine the built-in image-based approach. Using SageMaker’s pre-configured XGBoost image streamlines the setup by eliminating the need to manage custom scripts for common workflows, and it can also provide optimization advantages. Below, we’ll discuss both the code and pros and cons of the image-based setup compared to the custom script approach.\n",
    "\n",
    "---\n",
    "\n",
    "### Training with SageMaker's Built-in XGBoost Image\n",
    "\n",
    "With the SageMaker-provided XGBoost container, you can bypass custom script configuration if your workflow aligns with standard XGBoost training. This setup is particularly useful when you need quick, default configurations without custom preprocessing or additional libraries.\n",
    "\n",
    "\n",
    "### Comparison: Custom Script vs. Built-in Image\n",
    "\n",
    "| Feature                | Custom Script (`XGBoost` with `entry_point`)      | Built-in XGBoost Image                       |\n",
    "|------------------------|--------------------------------------------------|----------------------------------------------|\n",
    "| **Flexibility**        | Allows for custom preprocessing, data transformation, or advanced parameterization. Requires a Python script and custom dependencies can be added through `requirements.txt`. | Limited to XGBoost's built-in functionality, no custom preprocessing steps without additional customization. |\n",
    "| **Simplicity**         | Requires setting up a script with `entry_point` and managing dependencies. Ideal for specific needs but requires configuration. | Streamlined for fast deployment without custom code. Simple setup and no need for custom scripts.  |\n",
    "| **Performance**        | Similar performance, though potential for overhead with additional preprocessing. | Optimized for typical XGBoost tasks with faster startup. May offer marginally faster time-to-first-train. |\n",
    "| **Use Cases**          | Ideal for complex workflows requiring unique preprocessing steps or when adding specific libraries or functionalities. | Best for quick experiments, standard workflows, or initial testing on datasets without complex preprocessing. |\n",
    "\n",
    "**When to Use Each Approach**:\n",
    "- **Custom Script**: Recommended if you need to implement custom data preprocessing, advanced feature engineering, or specific workflow steps that require more control over training.\n",
    "- **Built-in Image**: Ideal when running standard XGBoost training, especially for quick experiments or production deployments where default configurations suffice.\n",
    "\n",
    "Both methods offer powerful and flexible approaches to model training on SageMaker, allowing you to select the approach best suited to your needs. Below is an example of training using the built-in XGBoost Image."
   ]
  },
  {
   "cell_type": "markdown",
   "id": "90e53219-1e9f-4dd4-a8a9-150ac540876d",
   "metadata": {},
   "source": [
    "#### Setting up the data path\n",
    "In this approach, using `TrainingInput` directly with SageMaker’s built-in XGBoost container contrasts with our previous method, where we specified a custom script with argument inputs (specified in hyperparameters) for data paths and settings. With `TrainingInput`, data paths and formats are managed as structured inputs (`{'train': train_input}`) rather than passed as arguments in a script. This setup simplifies and standardizes data handling in SageMaker’s built-in algorithms, keeping the data configuration separate from hyperparameters."
   ]
  },
  {
   "cell_type": "code",
   "execution_count": null,
   "id": "6105a27f-099e-40f0-8039-4a983ea412cb",
   "metadata": {
    "tags": []
   },
   "outputs": [],
   "source": [
    "train_s3_path"
   ]
  },
  {
   "cell_type": "code",
   "execution_count": null,
   "id": "48ae6e6e-d0a9-425b-bf95-3276c9a8dba9",
   "metadata": {
    "scrolled": true,
    "tags": []
   },
   "outputs": [],
   "source": [
    "from sagemaker.estimator import Estimator # when using images, we use the general Estimator class\n",
    "\n",
    "# Define instance type/count we'll use for training\n",
    "instance_type=\"ml.m5.large\"\n",
    "instance_count=1 # always start with 1. Rarely is parallelized training justified with data < 50 GB.\n",
    "\n",
    "# Use Estimator directly for built-in container without specifying entry_point\n",
    "xgboost_estimator_builtin = Estimator(\n",
    "    image_uri=sagemaker.image_uris.retrieve(\"xgboost\", session.boto_region_name, version=\"1.5-1\"),\n",
    "    role=role,\n",
    "    instance_count=instance_count,\n",
    "    instance_type=instance_type,\n",
    "    output_path=output_path,\n",
    "    sagemaker_session=session,\n",
    "    hyperparameters={\n",
    "        'max_depth': 5,\n",
    "        'eta': 0.1,\n",
    "        'subsample': 0.8,\n",
    "        'colsample_bytree': 0.8,\n",
    "        'num_round': 100\n",
    "    }\n",
    ")\n",
    "\n",
    "# Define input data\n",
    "train_input = TrainingInput(train_s3_path, content_type=\"csv\")\n",
    "\n",
    "# Measure and start training time\n",
    "start = t.time()\n",
    "xgboost_estimator_builtin.fit({'train': train_input})\n",
    "end = t.time()\n",
    "\n",
    "print(f\"Runtime for training on SageMaker: {end - start:.2f} seconds, instance_type: {instance_type}, instance_count: {instance_count}\")\n"
   ]
  },
  {
   "cell_type": "markdown",
   "id": "57f01345-7d1d-4c36-834e-6e543f867927",
   "metadata": {},
   "source": [
    "## Monitoring Training\n",
    "\n",
    "To view and monitor your SageMaker training job, follow these steps in the AWS Management Console. Since training jobs may be visible to multiple users in your account, it's essential to confirm that you're interacting with your own job before making any changes.\n",
    "\n",
    "1. **Navigate to the SageMaker Console**  \n",
    "   - Go to the AWS Management Console and open the **SageMaker** service (can search for it)\n",
    "\n",
    "2. **View Training Jobs**  \n",
    "   - In the left-hand navigation menu, select **Training jobs**. You’ll see a list of recent training jobs, which may include jobs from other users in the account.\n",
    "\n",
    "3. **Verify Your Training Job**  \n",
    "   - Identify your job by looking for the specific name format (e.g., `sagemaker-xgboost-YYYY-MM-DD-HH-MM-SS-XXX`) generated when you launched the job.  Click on its name to access detailed information. Cross-check the job details, such as the **Instance Type** and **Input data configuration**, with the parameters you set in your script. \n",
    "\n",
    "4. **Monitor the Job Status**  \n",
    "   - Once you’ve verified the correct job, click on its name to access detailed information:\n",
    "     - **Status**: Confirms whether the job is `InProgress`, `Completed`, or `Failed`.\n",
    "     - **Logs**: Review CloudWatch Logs and Job Metrics for real-time updates.\n",
    "     - **Output Data**: Shows the S3 location with the trained model artifacts.\n",
    "\n",
    "5. **Use CloudWatch for In-Depth Monitoring**  \n",
    "   - If additional monitoring is needed, go to **CloudWatch Logs** to view output logs associated with your training job in real-time.\n",
    "\n",
    "6. **Stopping a Training Job**  \n",
    "   - Before stopping a job, ensure you’ve selected the correct one by verifying job details as outlined above.\n",
    "   - If you’re certain it’s your job, go to **Training jobs** in the SageMaker Console, select the job, and choose **Stop** from the **Actions** menu. Confirm your selection, as this action will halt the job and release any associated resources.\n",
    "   - **Important**: Avoid stopping jobs you don’t own, as this could disrupt other users’ work and may have unintended consequences.\n",
    "\n",
    "Following these steps helps ensure you only interact with and modify jobs you own, reducing the risk of impacting other users' training processes."
   ]
  },
  {
   "cell_type": "markdown",
   "id": "bfbe5b09-d3be-490f-9712-b46e5be91c22",
   "metadata": {
    "jp-MarkdownHeadingCollapsed": true,
    "tags": []
   },
   "source": [
    "---\n",
    "## When Training Takes Too Long\n",
    "\n",
    "When training time becomes excessive, two main options can improve efficiency in SageMaker: \n",
    "* **Option 1: Upgrading to a more powerful instance** \n",
    "* **Option 2: Using multiple instances for distributed training**. \n",
    "\n",
    "Generally, **Option 1 is the preferred approach** and should be explored first.\n",
    "\n",
    "### Option 1: Upgrade to a More Powerful Instance (Preferred Starting Point)\n",
    "\n",
    "Upgrading to a more capable instance, particularly one with GPU capabilities (e.g., for deep learning), is often the simplest and most cost-effective way to speed up training. Here’s a breakdown of instances to consider. Check the [Instances for ML spreadsheet](https://docs.google.com/spreadsheets/d/1uPT4ZAYl_onIl7zIjv5oEAdwy4Hdn6eiA9wVfOBbHmY/edit?usp=sharing) for guidance on selecting a better instance.\n",
    "\n",
    "**When to Use a Single Instance Upgrade**  \n",
    "Upgrading a single instance works well if:\n",
    "   - **Dataset Size**: The dataset is small to moderate (e.g., <10 GB), fitting comfortably within the memory of a larger instance.\n",
    "   - **Model Complexity**: The model is not so large that it requires distribution across multiple devices.\n",
    "   - **Training Time**: Expected training time is within a few hours, but could benefit from additional power.\n",
    "\n",
    "Upgrading a single instance is typically the most efficient option in terms of both cost and setup complexity. It avoids the communication overhead associated with multi-instance setups (discussed below) and is well-suited for most small to medium-sized datasets.\n",
    "\n",
    "### Option 2: Use Multiple Instances for Distributed Training\n",
    "If upgrading a single instance doesn’t sufficiently reduce training time, distributed training across multiple instances may be a viable alternative, particularly for larger datasets and complex models. SageMaker supports two primary distributed training techniques: **data parallelism** and **model parallelism**.\n",
    "\n",
    "#### Understanding Data Parallelism vs. Model Parallelism\n",
    "\n",
    "- **Data Parallelism**: This approach splits the dataset across multiple instances, allowing each instance to process a subset of the data independently. After each batch, gradients are synchronized across instances to ensure consistent updates to the model. Data parallelism is effective when the model itself fits within an instance’s memory, but the data size or desired training speed requires faster processing through multiple instances.\n",
    "\n",
    "- **Model Parallelism**: Model parallelism divides the model itself across multiple instances, making it ideal for very large models (e.g., deep learning models in NLP or image processing) that cannot fit in memory on a single instance. Each instance processes a segment of the model, and results are combined during training. This approach is suitable for memory-intensive models that exceed the capacity of a single instance.\n",
    "\n",
    "#### How SageMaker Chooses Between Data and Model Parallelism\n",
    "\n",
    "In SageMaker, the choice between data and model parallelism is not entirely automatic. Here’s how it typically works:\n",
    "\n",
    "- **Data Parallelism (Automatic)**: When you set `instance_count > 1`, SageMaker will automatically apply data parallelism. This splits the dataset across instances, allowing each instance to process a subset independently and synchronize gradients after each batch. Data parallelism works well when the model can fit in the memory of a single instance, but the data size or processing speed needs enhancement with multiple instances.\n",
    "\n",
    "- **Model Parallelism (Manual Setup)**: To enable model parallelism, you need to configure it explicitly using the **SageMaker Model Parallel Library**, suitable for deep learning models in frameworks like PyTorch or TensorFlow. Model parallelism splits the model itself across multiple instances, which is useful for memory-intensive models that exceed the capacity of a single instance. Configuring model parallelism requires setting up a distribution strategy in SageMaker’s Python SDK.\n",
    "\n",
    "- **Hybrid Parallelism (Manual Setup)**: For extremely large datasets and models, SageMaker can support both data and model parallelism together, but this setup requires manual configuration. Hybrid parallelism is beneficial for workloads that are both data- and memory-intensive, where both the model and the data need distributed processing.\n",
    "\n",
    "\n",
    "**When to Use Distributed Training with Multiple Instances**  \n",
    "Consider multiple instances if:\n",
    "   - **Dataset Size**: The dataset is large (>10 GB) and doesn’t fit comfortably within a single instance's memory.\n",
    "   - **Model Complexity**: The model is complex, requiring extensive computation that a single instance cannot handle in a reasonable time.\n",
    "   - **Expected Training Time**: Training on a single instance takes prohibitively long (e.g., >10 hours), and distributed computing overhead is manageable.\n",
    "\n",
    "### Cost of distributed computing \n",
    "**tl;dr** Use 1 instance unless you are finding that you're waiting hours for the training/tuning to complete.\n",
    "\n",
    "Let’s break down some key points for deciding between **1 instance vs. multiple instances** from a cost perspective:\n",
    "\n",
    "1. **Instance Cost per Hour**:\n",
    "   - SageMaker charges per instance-hour. Running **multiple instances** in parallel can finish training faster, reducing wall-clock time, but the **cost per hour will increase** with each added instance.\n",
    "\n",
    "2. **Single Instance vs. Multiple Instance Wall-Clock Time**:\n",
    "   - When using a single instance, training will take significantly longer, especially if your data is large. However, the wall-clock time difference between 1 instance and 10 instances may not translate to a direct 10x speedup when using multiple instances due to **communication overheads**.\n",
    "   - For example, with data-parallel training, instances need to synchronize gradients between batches, which introduces **communication costs** and may slow down training on larger clusters.\n",
    "\n",
    "3. **Scaling Efficiency**:\n",
    "   - Parallelizing training does not scale perfectly due to those overheads. Adding instances generally provides **diminishing returns** on training time reduction.\n",
    "   - For example, doubling instances from 1 to 2 may reduce training time by close to 50%, but going from 8 to 16 instances may only reduce training time by around 20-30%, depending on the model and batch sizes.\n",
    "\n",
    "4. **Typical Recommendation**:\n",
    "   - For **small-to-moderate datasets** or cases where training time isn’t a critical factor, a **single instance** may be more cost-effective, as it avoids parallel processing overheads.\n",
    "   - For **large datasets** or where training speed is a high priority (e.g., tuning complex deep learning models), using **multiple instances** can be beneficial despite the cost increase due to time savings.\n",
    "\n",
    "5. **Practical Cost Estimation**:\n",
    "   - Suppose a single instance takes `T` hours to train and costs `$C` per hour. For a 10-instance setup, the cost would be approximately:\n",
    "     - **Single instance:** `T * $C`\n",
    "     - **10 instances (parallel):** `(T / k) * (10 * $C)`, where `k` is the speedup factor (<10 due to overhead).\n",
    "   - If the speedup is only about 5x instead of 10x due to communication overhead, then the cost difference may be minimal, with a slight edge to a single instance on total cost but at a higher wall-clock time.\n",
    "\n",
    "\n",
    "\n",
    "> In summary:\n",
    "> - **Start by upgrading to a more powerful instance (Option 1)** for datasets up to 10 GB and moderately complex models. A single, more powerful, instance is usually more cost-effective for smaller workloads and where time isn’t critical. Running initial tests with a single instance can also provide a benchmark. You can then experiment with small increases in instance count to find a balance between cost and time savings, particularly considering communication overheads that affect parallel efficiency.\n",
    "> - **Consider distributed training across multiple instances (Option 2)** only when dataset size, model complexity, or training time demand it.\n",
    "\n",
    "---"
   ]
  },
  {
   "cell_type": "markdown",
   "id": "c7efcb66-dc5b-4c32-abb0-da9e19ceeace",
   "metadata": {},
   "source": [
    "## XGBoost's Distributed Training Mechanism\n",
    "In the event that option 2 explained above really is better for your use-case (e.g., you have a very large dataset or model that takes a while to train even with high performance instances), the next example will demo setting this up. Before we do, though, we should ask what distributed computing really means for our specific model/setup. XGBoost’s distributed training relies on a data-parallel approach that divides the dataset across multiple instances (or workers), enabling each instance to work on a portion of the data independently. This strategy enhances efficiency, especially for large datasets and computationally intensive tasks. \n",
    "\n",
    "> **What about a model parallelism approach?** Unlike deep learning models with vast neural network layers, XGBoost’s decision trees are usually small enough to fit in memory on a single instance, even when the dataset is large. Thus, model parallelism is rarely necessary.\n",
    "XGBoost does not inherently support model parallelism out of the box in SageMaker because the model architecture doesn’t typically exceed memory limits, unlike massive language or image models. Although model parallelism can be theoretically applied (e.g., splitting large tree structures across instances), it's generally not supported natively in SageMaker for XGBoost, as it would require a custom distribution framework to split the model itself.\n",
    "\n",
    "Here’s how distributed training in XGBoost works, particularly in the SageMaker environment:\n",
    "\n",
    "### Key Steps in Distributed Training with XGBoost\n",
    "\n",
    "#### 1. **Data Partitioning**\n",
    "   - The dataset is divided among multiple instances. For example, with two instances, each instance may receive half of the dataset.\n",
    "   - In SageMaker, data partitioning across instances is handled automatically via the input channels you specify during training, reducing manual setup.\n",
    "\n",
    "#### 2. **Parallel Gradient Boosting**\n",
    "   - XGBoost performs gradient boosting by constructing trees iteratively based on calculated gradients.\n",
    "   - Each instance calculates gradients (first-order derivatives) and Hessians (second-order derivatives of the loss function) independently on its subset of data.\n",
    "   - This parallel processing allows each instance to determine which features to split and which trees to add to the model based on its data portion.\n",
    "\n",
    "#### 3. **Communication Between Instances**\n",
    "   - After computing gradients and Hessians locally, instances synchronize to share and combine these values.\n",
    "   - Synchronization keeps the model parameters consistent across instances. Only computed gradients are communicated, not the raw dataset, minimizing data transfer overhead.\n",
    "   - The combined gradients guide global model updates, ensuring that the ensemble of trees reflects the entire dataset, despite its division across multiple instances.\n",
    "\n",
    "#### 4. **Final Model Aggregation**\n",
    "   - Once training completes, XGBoost aggregates the trained trees from each instance into a single final model.\n",
    "   - This aggregation enables the final model to perform as though it trained on the entire dataset, even if the dataset couldn’t fit into a single instance’s memory.\n",
    "\n",
    "SageMaker simplifies these steps by automatically managing the partitioning, synchronization, and aggregation processes during distributed training with XGBoost.\n",
    "\n",
    "---\n",
    "\n",
    "## Implementing Distributed Training with XGBoost in SageMaker\n",
    "\n",
    "In SageMaker, setting up distributed training for XGBoost can offer significant time savings as dataset sizes and computational requirements increase. Here’s how you can configure it:\n",
    "\n",
    "1. **Select Multiple Instances**: Specify `instance_count > 1` in the SageMaker `Estimator` to enable distributed training.\n",
    "2. **Optimize Instance Type**: Choose an instance type suitable for your dataset size and XGBoost requirements \n",
    "3. **Monitor for Speed Improvements**: With larger datasets, distributed training can yield time savings by scaling horizontally. However, gains may vary depending on the dataset and computation per instance."
   ]
  },
  {
   "cell_type": "code",
   "execution_count": null,
   "id": "8ff4f3bd-2305-4277-affa-bcb667c49b22",
   "metadata": {
    "tags": []
   },
   "outputs": [],
   "source": [
    "# Define instance type/count we'll use for training\n",
    "instance_type=\"ml.m5.large\"\n",
    "instance_count=1 # always start with 1. Rarely is parallelized training justified with data < 50 GB.\n",
    "\n",
    "# Define the XGBoost estimator for distributed training\n",
    "xgboost_estimator = Estimator(\n",
    "    image_uri=sagemaker.image_uris.retrieve(\"xgboost\", session.boto_region_name, version=\"1.5-1\"),\n",
    "    role=role,\n",
    "    instance_count=instance_count,  # Start with 1 instance for baseline\n",
    "    instance_type=instance_type,\n",
    "    output_path=output_path,\n",
    "    sagemaker_session=session,\n",
    ")\n",
    "\n",
    "# Set hyperparameters\n",
    "xgboost_estimator.set_hyperparameters(\n",
    "    max_depth=5,\n",
    "    eta=0.1,\n",
    "    subsample=0.8,\n",
    "    colsample_bytree=0.8,\n",
    "    num_round=100,\n",
    ")\n",
    "\n",
    "# Specify input data from S3\n",
    "train_input = TrainingInput(train_s3_path, content_type=\"csv\")\n",
    "\n",
    "# Run with 1 instance\n",
    "start1 = t.time()\n",
    "xgboost_estimator.fit({\"train\": train_input})\n",
    "end1 = t.time()\n",
    "\n",
    "\n",
    "# Now run with 2 instances to observe speedup\n",
    "xgboost_estimator.instance_count = 2\n",
    "start2 = t.time()\n",
    "xgboost_estimator.fit({\"train\": train_input})\n",
    "end2 = t.time()\n",
    "\n",
    "print(f\"Runtime for training on SageMaker: {end1 - start1:.2f} seconds, instance_type: {instance_type}, instance_count: {instance_count}\")\n",
    "print(f\"Runtime for training on SageMaker: {end2 - start2:.2f} seconds, instance_type: {instance_type}, instance_count: {xgboost_estimator.instance_count}\")\n"
   ]
  },
  {
   "cell_type": "markdown",
   "id": "48dc2b07-3b34-48ad-b8c7-025da28bbbc6",
   "metadata": {},
   "source": [
    "### Why Scaling Instances Might Not Show Speedup Here\n",
    "\n",
    "* Small Dataset: With only 892 rows, the dataset might be too small to benefit from distributed training. Distributing small datasets often adds overhead (like network communication between instances), which outweighs the parallel processing benefits.\n",
    "\n",
    "* Distributed Overhead: Distributed training introduces coordination steps that can add latency. For very short training jobs, this overhead can become a larger portion of the total training time, reducing the benefit of additional instances.\n",
    "\n",
    "* Tree-Based Models: Tree-based models, like those in XGBoost, don’t benefit from distributed scaling as much as deep learning models when datasets are small. For large datasets, distributed XGBoost can still offer speedups, but this effect is generally less than with neural networks, where parallel gradient updates across multiple instances become efficient.\n",
    "\n",
    "### When Multi-Instance Training Helps\n",
    "* Larger Datasets: Multi-instance training shines with larger datasets, where splitting the data across instances and processing it in parallel can significantly reduce the training time.\n",
    "\n",
    "* Complex Models: For highly complex models with many parameters (like deep learning models or large XGBoost ensembles) and long training times, distributing the training can help speed up the process as each instance contributes to the gradient calculation and optimization steps.\n",
    "\n",
    "* Distributed Algorithms: XGBoost has a built-in distributed training capability, but models that perform gradient descent, like deep neural networks, gain more obvious benefits because each instance can compute gradients for a batch of data simultaneously, allowing faster convergence."
   ]
  },
  {
   "cell_type": "markdown",
   "id": "ab290ba4-c74f-4475-b634-77f5b7343de5",
   "metadata": {},
   "source": [
    "---\n",
    "## Training a neural network with SageMaker\n",
    "Let's see how to do a similar experiment, but this time using PyTorch neural networks. We will again demonstrate how to test our custom model train script (train_nn.py) before deploying to SageMaker, and discuss some strategies (e.g., using a GPU) for improving train time when needed.\n",
    "\n",
    "### Preparing the data (compressed npz files)\n",
    "When deploying a PyTorch model on SageMaker, it’s helpful to prepare the input data in a format that’s directly accessible and compatible with PyTorch’s data handling methods. The next code cell will prep our npz files from the existing csv versions. Why are we using this format?\n",
    "\n",
    "1. **Optimized Data Loading**:  \n",
    "   The `.npz` format stores arrays in a compressed, binary format, making it efficient for both storage and loading. PyTorch can easily handle `.npz` files, especially in batch processing, without requiring complex data transformations during training.\n",
    "\n",
    "2. **Batch Compatibility**:  \n",
    "   When training neural networks in PyTorch, it’s common to load data in batches. By storing data in an `.npz` file, we can quickly load the entire dataset or specific parts (e.g., `X_train`, `y_train`) into memory and feed it to the PyTorch `DataLoader`, enabling efficient batched data loading.\n",
    "\n",
    "3. **Reduced I/O Overhead in SageMaker**:  \n",
    "   Storing data in `.npz` files minimizes the I/O operations during training, reducing time spent on data handling. This is especially beneficial in cloud environments like SageMaker, where efficient data handling directly impacts training costs and performance.\n",
    "\n",
    "4. **Consistency and Compatibility**:  \n",
    "   Using `.npz` files allows us to ensure consistency between training and validation datasets. Each file (`train_data.npz` and `val_data.npz`) stores the arrays in a standardized way that can be easily accessed by keys (`X_train`, `y_train`, `X_val`, `y_val`). This structure is compatible with PyTorch's `Dataset` class, making it straightforward to design custom datasets for training.\n",
    "\n",
    "5. **Support for Multiple Data Types**:  \n",
    "   `.npz` files support storage of multiple arrays within a single file. This is helpful for organizing features and labels without additional code. Here, the `train_data.npz` file contains both `X_train` and `y_train`, keeping everything related to training data in one place. Similarly, `val_data.npz` organizes validation features and labels, simplifying file management.\n",
    "\n",
    "In summary, saving the data in `.npz` files ensures a smooth workflow from data loading to model training in PyTorch, leveraging SageMaker's infrastructure for a more efficient, structured training process."
   ]
  },
  {
   "cell_type": "code",
   "execution_count": null,
   "id": "7ae53fea-4f53-4d54-bb1d-247378a01957",
   "metadata": {
    "tags": []
   },
   "outputs": [],
   "source": [
    "import pandas as pd\n",
    "from sklearn.model_selection import train_test_split\n",
    "from sklearn.preprocessing import StandardScaler, LabelEncoder\n",
    "import numpy as np\n",
    "\n",
    "# Load and preprocess the Titanic dataset\n",
    "df = pd.read_csv(train_filename)\n",
    "\n",
    "# Encode categorical variables and normalize numerical ones\n",
    "df['Sex'] = LabelEncoder().fit_transform(df['Sex'])\n",
    "df['Embarked'] = df['Embarked'].fillna('S')  # Fill missing values in 'Embarked'\n",
    "df['Embarked'] = LabelEncoder().fit_transform(df['Embarked'])\n",
    "\n",
    "# Fill missing values for 'Age' and 'Fare' with median\n",
    "df['Age'] = df['Age'].fillna(df['Age'].median())\n",
    "df['Fare'] = df['Fare'].fillna(df['Fare'].median())\n",
    "\n",
    "# Select features and target\n",
    "X = df[['Pclass', 'Sex', 'Age', 'SibSp', 'Parch', 'Fare', 'Embarked']].values\n",
    "y = df['Survived'].values\n",
    "\n",
    "# Normalize features (helps avoid exploding/vanishing gradients)\n",
    "scaler = StandardScaler()\n",
    "X = scaler.fit_transform(X)\n",
    "\n",
    "# Split the data\n",
    "X_train, X_val, y_train, y_val = train_test_split(X, y, test_size=0.2, random_state=42)\n",
    "\n",
    "# Save the preprocessed data to our local jupyter environment\n",
    "np.savez('train_data.npz', X_train=X_train, y_train=y_train)\n",
    "np.savez('val_data.npz', X_val=X_val, y_val=y_val)\n"
   ]
  },
  {
   "cell_type": "markdown",
   "id": "69a306aa-ab7d-4112-944b-a48e2f04031e",
   "metadata": {},
   "source": [
    "Next, we will upload our compressed files to our S3 bucket. Storage is farily cheap on AWS (around $0.023 per GB per month), but be mindful of uploading too much data. It may be convenient to store a preprocessed version of the data, just don't store too many versions that aren't being actively used."
   ]
  },
  {
   "cell_type": "code",
   "execution_count": null,
   "id": "a0fdeaca-d5ab-4443-9e84-1c2e1f8b7987",
   "metadata": {
    "tags": []
   },
   "outputs": [],
   "source": [
    "import boto3\n",
    "\n",
    "train_file = \"train_data.npz\"  # Local file path in your notebook environment\n",
    "val_file = \"val_data.npz\"  # Local file path in your notebook environment\n",
    "\n",
    "# Initialize the S3 client\n",
    "s3 = boto3.client('s3')\n",
    "\n",
    "# Upload the training and validation files to S3\n",
    "s3.upload_file(train_file, bucket, f\"{train_file}\")\n",
    "s3.upload_file(val_file, bucket, f\"{val_file}\")\n",
    "\n",
    "print(\"Files successfully uploaded to S3.\")\n"
   ]
  },
  {
   "cell_type": "markdown",
   "id": "f89892c6-c191-4ef2-bafb-dbcab4b5ab9d",
   "metadata": {},
   "source": [
    "#### Testing our train script on notebook instance\n",
    "You should always test code thoroughly before scaling up and using more resources. Here, we will test our script using a small number of epochs — just to verify our setup is correct."
   ]
  },
  {
   "cell_type": "code",
   "execution_count": null,
   "id": "bf95fe6b-1144-422f-93e2-cf2c1c982825",
   "metadata": {
    "scrolled": true,
    "tags": []
   },
   "outputs": [],
   "source": [
    "import torch\n",
    "\n",
    "# Measure training time locally\n",
    "start_time = t.time()\n",
    "%run  test_AWS/scripts/train_nn.py --train train_data.npz --val val_data.npz --epochs 1000 --learning_rate 0.001\n",
    "print(f\"Local training time: {t.time() - start_time:.2f} seconds, instance_type = {local_instance}\")\n"
   ]
  },
  {
   "cell_type": "markdown",
   "id": "f25515f2-8c71-4650-8007-62541c663f0b",
   "metadata": {},
   "source": [
    "### Deploying PyTorch Neural Network via SageMaker\n",
    "Now that we have tested things locally, we can try to train with a larger number of epochs and a better instance selected. We can do this easily by invoking the PyTorch estimator. Our notebook is currently configured to use ml.m5.large. We can upgrade this to `ml.m5.xlarge` with the below code (using our notebook as a controller). \n",
    "\n",
    "**Should we use a GPU?**: Since this dataset is farily small, we don't necessarily need a GPU for training. Considering costs, the m5.xlarge is `$0.17/hour`, while the cheapest GPU instance is `$0.75/hour`. However, for larger datasets (> 1 GB) and models, we may want to consider a GPU if training time becomes cumbersome (see [Instances for ML](https://docs.google.com/spreadsheets/d/1uPT4ZAYl_onIl7zIjv5oEAdwy4Hdn6eiA9wVfOBbHmY/edit?usp=sharing). If that doesn't work, we can try distributed computing (setting instance > 1). More on this in the next section."
   ]
  },
  {
   "cell_type": "code",
   "execution_count": null,
   "id": "f9c19b92-e22e-4e9b-b219-ada9b2af0a3b",
   "metadata": {
    "scrolled": true,
    "tags": []
   },
   "outputs": [],
   "source": [
    "from sagemaker.pytorch import PyTorch\n",
    "from sagemaker.inputs import TrainingInput\n",
    "\n",
    "epochs = 10000\n",
    "instance_count = 1\n",
    "instance_type=\"ml.m5.large\"\n",
    "output_path = f's3://{bucket}/output_nn/' # this folder will auto-generate if it doesn't exist already\n",
    "\n",
    "# Define the PyTorch estimator and pass hyperparameters as arguments\n",
    "pytorch_estimator = PyTorch(\n",
    "    entry_point=\"test_AWS/scripts/train_nn.py\",\n",
    "    role=role,\n",
    "    instance_type=instance_type, # with this small dataset, we don't recessarily need a GPU for fast training. \n",
    "    instance_count=instance_count,  # Distributed training with two instances\n",
    "    framework_version=\"1.9\",\n",
    "    py_version=\"py38\",\n",
    "    output_path=output_path,\n",
    "    sagemaker_session=session,\n",
    "    hyperparameters={\n",
    "        \"train\": \"/opt/ml/input/data/train/train_data.npz\",  # SageMaker will mount this path\n",
    "        \"val\": \"/opt/ml/input/data/val/val_data.npz\",        # SageMaker will mount this path\n",
    "        \"epochs\": epochs,\n",
    "        \"learning_rate\": 0.001\n",
    "    }\n",
    ")\n",
    "\n",
    "# Define input paths\n",
    "train_input = TrainingInput(f\"s3://{bucket}/train_data.npz\", content_type=\"application/x-npz\")\n",
    "val_input = TrainingInput(f\"s3://{bucket}/val_data.npz\", content_type=\"application/x-npz\")\n",
    "\n",
    "# Start the training job and time it\n",
    "start = t.time()\n",
    "pytorch_estimator.fit({\"train\": train_input, \"val\": val_input})\n",
    "end = t.time()\n",
    "\n",
    "print(f\"Runtime for training on SageMaker: {end - start:.2f} seconds, instance_type: {instance_type}, instance_count: {instance_count}\")\n"
   ]
  },
  {
   "cell_type": "markdown",
   "id": "501bbafd-6b7d-4d7a-92d1-1bef7d23f95c",
   "metadata": {},
   "source": [
    "### Deploying PyTorch Neural Network via SageMaker with a GPU Instance\n",
    "\n",
    "In this section, we’ll implement the same procedure as above, but using a GPU-enabled instance for potentially faster training. While GPU instances are more expensive, they can be cost-effective for larger datasets or more complex models that require significant computational power.\n",
    "\n",
    "#### Selecting a GPU Instance\n",
    "For a small dataset like ours, we don’t strictly need a GPU, but for larger datasets or more complex models, a GPU can reduce training time. Here, we’ll select an `ml.g4dn.xlarge` instance, which provides a single GPU and costs approximately `$0.75/hour` (check [Instances for ML](https://docs.google.com/spreadsheets/d/1uPT4ZAYl_onIl7zIjv5oEAdwy4Hdn6eiA9wVfOBbHmY/edit?usp=sharing) for detailed pricing).\n",
    "\n",
    "#### Code Modifications for GPU Use\n",
    "Using a GPU requires minor changes in your training script (`train_nn.py`). Specifically, you’ll need to:\n",
    "1. Check for GPU availability in PyTorch.\n",
    "2. Move the model and tensors to the GPU device if available.\n",
    "\n",
    "#### Enabling PyTorch to use GPU in `train_nn.py`  \n",
    "\n",
    "The following code snippet to enables GPU support in `train_nn.py`:\n",
    "\n",
    "```python\n",
    "import torch\n",
    "\n",
    "# Set device\n",
    "device = torch.device(\"cuda\" if torch.cuda.is_available() else \"cpu\")\n",
    "```"
   ]
  },
  {
   "cell_type": "code",
   "execution_count": null,
   "id": "eaa16917-c740-4751-b7e8-608213d64471",
   "metadata": {},
   "outputs": [],
   "source": [
    "from sagemaker.pytorch import PyTorch\n",
    "from sagemaker.inputs import TrainingInput\n",
    "import time as t\n",
    "\n",
    "epochs = 10000\n",
    "instance_count = 1\n",
    "instance_type=\"ml.g4dn.xlarge\"\n",
    "output_path = f's3://{bucket}/output_nn/'\n",
    "\n",
    "# Define the PyTorch estimator and pass hyperparameters as arguments\n",
    "pytorch_estimator_gpu = PyTorch(\n",
    "    entry_point=\"test_AWS/scripts/train_nn.py\",\n",
    "    role=role,\n",
    "    instance_type=instance_type,\n",
    "    instance_count=instance_count,\n",
    "    framework_version=\"1.9\",\n",
    "    py_version=\"py38\",\n",
    "    output_path=output_path,\n",
    "    sagemaker_session=session,\n",
    "    hyperparameters={\n",
    "        \"train\": \"/opt/ml/input/data/train/train_data.npz\",\n",
    "        \"val\": \"/opt/ml/input/data/val/val_data.npz\",\n",
    "        \"epochs\": epochs,\n",
    "        \"learning_rate\": 0.001\n",
    "    }\n",
    ")\n",
    "\n",
    "# Define input paths\n",
    "train_input = TrainingInput(f\"s3://{bucket}/train_data.npz\", content_type=\"application/x-npz\")\n",
    "val_input = TrainingInput(f\"s3://{bucket}/val_data.npz\", content_type=\"application/x-npz\")\n",
    "\n",
    "# Start the training job and time it\n",
    "start = t.time()\n",
    "pytorch_estimator_gpu.fit({\"train\": train_input, \"val\": val_input})\n",
    "end = t.time()\n",
    "print(f\"Runtime for training on SageMaker: {end - start:.2f} seconds, instance_type: {instance_type}, instance_count: {instance_count}\")\n"
   ]
  },
  {
   "cell_type": "markdown",
   "id": "277b4d25-434f-49dd-b757-75ccc13366ea",
   "metadata": {},
   "source": [
    "#### GPUs can be slow for small datasets/models\n",
    "> This performance discrepancy might be due to the following factors:\n",
    "> \n",
    "> 1. **Small Dataset/Model Size**: When datasets and models are small, the overhead of transferring data between the CPU and GPU, as well as managing the GPU, can actually slow things down. For very small models and datasets, CPUs are often faster since there's minimal data to process.\n",
    "> \n",
    "> 2. **GPU Initialization Overhead**: Every time a training job starts on a GPU, there’s a small overhead for initializing CUDA libraries. For short jobs, this setup time can make the GPU appear slower overall.\n",
    "> \n",
    "> 3. **Batch Size**: GPUs perform best with larger batch sizes since they can process many data points in parallel. If the batch size is too small, the GPU is underutilized, leading to suboptimal performance. You may want to try increasing the batch size to see if this reduces training time.\n",
    "> \n",
    "> 4. **Instance Type**: Some GPU instances, like the `ml.g4dn` series, have less computational power than the larger `p3` series. They’re better suited for inference or lightweight tasks rather than intense training, so a more powerful instance (e.g., `ml.p3.2xlarge`) could help for larger tasks.\n",
    "> \n",
    "> If training time continues to be critical, sticking with a CPU instance may be the best approach for smaller datasets. For larger, more complex models and datasets, the GPU's advantages should become more apparent."
   ]
  },
  {
   "cell_type": "markdown",
   "id": "f151dcbf-a8fc-4ef8-bd3b-e291a803ea28",
   "metadata": {},
   "source": [
    "### Distributed Training for Neural Networks in SageMaker\n",
    "In the event that you do need distributed computing to achieve reasonable train times (remember to try an upgraded instance first!), simply adjust the instance count to a number between 2 and 5. Beyond 5 instances, you'll see diminishing returns and may be needlessly spending extra money/compute-energy."
   ]
  },
  {
   "cell_type": "code",
   "execution_count": null,
   "id": "faa368ba-6648-4b3a-93f8-a8b0271ed199",
   "metadata": {
    "scrolled": true,
    "tags": []
   },
   "outputs": [],
   "source": [
    "from sagemaker.pytorch import PyTorch\n",
    "from sagemaker.inputs import TrainingInput\n",
    "import time as t\n",
    "\n",
    "epochs = 10000\n",
    "instance_count = 2 # increasing to 2 to see if it has any benefit (likely won't see any with this small dataset)\n",
    "instance_type=\"ml.m5.xlarge\"\n",
    "output_path = f's3://{bucket}/output_nn/'\n",
    "\n",
    "# Define the PyTorch estimator and pass hyperparameters as arguments\n",
    "pytorch_estimator = PyTorch(\n",
    "    entry_point=\"test_AWS/scripts/train_nn.py\",\n",
    "    role=role,\n",
    "    instance_type=instance_type, # with this small dataset, we don't recessarily need a GPU for fast training. \n",
    "    instance_count=instance_count,  # Distributed training with two instances\n",
    "    framework_version=\"1.9\",\n",
    "    py_version=\"py38\",\n",
    "    output_path=output_path,\n",
    "    sagemaker_session=session,\n",
    "    hyperparameters={\n",
    "        \"train\": \"/opt/ml/input/data/train/train_data.npz\",  # SageMaker will mount this path\n",
    "        \"val\": \"/opt/ml/input/data/val/val_data.npz\",        # SageMaker will mount this path\n",
    "        \"epochs\": epochs,\n",
    "        \"learning_rate\": 0.001\n",
    "    }\n",
    ")\n",
    "\n",
    "# Define input paths\n",
    "train_input = TrainingInput(f\"s3://{bucket}/train_data.npz\", content_type=\"application/x-npz\")\n",
    "val_input = TrainingInput(f\"s3://{bucket}/val_data.npz\", content_type=\"application/x-npz\")\n",
    "\n",
    "# Start the training job and time it\n",
    "start = t.time()\n",
    "pytorch_estimator.fit({\"train\": train_input, \"val\": val_input})\n",
    "end = t.time()\n",
    "\n",
    "print(f\"Runtime for training on SageMaker: {end - start:.2f} seconds, instance_type: {instance_type}, instance_count: {instance_count}\")\n"
   ]
  },
  {
   "cell_type": "markdown",
   "id": "37c96ea4-3660-4d02-bd40-1f59ad232191",
   "metadata": {},
   "source": [
    "### Distributed Training for Neural Networks in SageMaker: Understanding Training Strategies and How Epochs Are Managed\n",
    "Amazon SageMaker provides two main strategies for distributed training: **data parallelism** and **model parallelism**. Understanding which strategy will be used depends on the model size and the configuration of your SageMaker training job, as well as the default settings of the specific SageMaker Estimator you are using.\n",
    "\n",
    "#### 1. **Data Parallelism (Most Common for Mini-batch SGD)**\n",
    "   - **How it Works**: In data parallelism, each instance in the cluster (e.g., multiple `ml.m5.xlarge` instances) maintains a **complete copy of the model**. The **training dataset is split across instances**, and each instance processes a different subset of data simultaneously. This enables multiple instances to complete forward and backward passes on different data batches independently.\n",
    "   - **Epoch Distribution**: Even though each instance processes all the specified epochs, they only work on a portion of the dataset for each epoch. After each batch, instances synchronize their gradient updates across all instances using a method such as *all-reduce*. This ensures that while each instance is working with a unique data batch, the model weights remain consistent across instances.\n",
    "   - **Key Insight**: Because all instances process the specified number of epochs and synchronize weight updates between batches, each instance’s training contributes to a cohesive, shared model. The **effective epoch count across instances appears to be shared** because data parallelism allows each instance to handle a fraction of the data per epoch, not the epochs themselves. Data parallelism is well-suited for models that can fit into a single instance’s memory and benefit from increased data throughput.\n",
    "\n",
    "#### 2. **Model Parallelism (Best for Large Models)**\n",
    "   - **How it Works**: Model parallelism divides the model itself across multiple instances, not the data. This approach is best suited for very large models that cannot fit into a single GPU or instance’s memory (e.g., large language models).\n",
    "   - **Epoch Distribution**: The model is partitioned so that each instance is responsible for specific layers or components. Data flows sequentially through these partitions, where each instance processes a part of each batch and passes it to the next instance.\n",
    "   - **Key Insight**: This approach is more complex due to the dependency between model components, so **synchronization occurs across the model layers rather than across data batches**. Model parallelism generally suits scenarios with exceptionally large model architectures that exceed memory limits of typical instances.\n",
    "\n",
    "### Determining Which Distributed Training Strategy is Used\n",
    "SageMaker will select the distributed strategy based on:\n",
    "   - **Framework and Estimator Configuration**: Most deep learning frameworks in SageMaker default to data parallelism, especially when using PyTorch or TensorFlow with standard configurations.\n",
    "   - **Model and Data Size**: If you specify a model that exceeds a single instance's memory capacity, SageMaker may switch to model parallelism if configured for it.\n",
    "   - **Instance Count**: When you specify `instance_count > 1` in your Estimator with a deep learning model, SageMaker will use data parallelism by default unless explicitly configured for model parallelism.\n",
    "\n",
    "You observed that each instance ran all epochs with `instance_count=2` and 10,000 epochs, which aligns with data parallelism. Here, each instance processed the full set of epochs independently, but each batch of data was different, and the gradient updates were synchronized across instances.\n",
    "\n",
    "---\n",
    "\n",
    "### Summary of Key Points\n",
    "- **Data Parallelism** is the default distributed training strategy and splits the dataset across instances, allowing each instance to work on different data batches.\n",
    "   - Each instance runs all specified epochs, but the weight updates are synchronized, so **epoch workload is shared across the data** rather than by reducing epoch count per instance.\n",
    "- **Model Parallelism** splits the model itself across instances, typically only needed for very large models that exceed the memory capacity of single instances.\n",
    "- **Choosing Between Distributed Strategies**: Data parallelism is suitable for most neural network models, especially those that fit in memory, while model parallelism is intended for exceptionally large models with memory constraints.\n",
    "\n",
    "For cost optimization:\n",
    "- **Single-instance training** is typically more cost-effective for small or moderately sized datasets, while **multi-instance setups** can reduce wall-clock time for larger datasets and complex models, at a higher instance cost.\n",
    "- For **initial testing**, start with data parallelism on a single instance, and increase instance count if training time becomes prohibitive, while being mindful of communication overhead and scaling efficiency.\n"
   ]
  }
 ],
 "metadata": {
  "kernelspec": {
   "display_name": "conda_pytorch_p310",
   "language": "python",
   "name": "conda_pytorch_p310"
  },
  "language_info": {
   "codemirror_mode": {
    "name": "ipython",
    "version": 3
   },
   "file_extension": ".py",
   "mimetype": "text/x-python",
   "name": "python",
   "nbconvert_exporter": "python",
   "pygments_lexer": "ipython3",
   "version": "3.10.14"
  }
 },
 "nbformat": 4,
 "nbformat_minor": 5
}
