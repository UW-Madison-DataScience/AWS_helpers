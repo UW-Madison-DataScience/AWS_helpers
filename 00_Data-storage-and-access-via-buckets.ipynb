{
 "cells": [
  {
   "cell_type": "markdown",
   "id": "61165195-70f5-45c0-aaad-ffb975ebc6ef",
   "metadata": {},
   "source": [
    "### Pushing new files to bucket from notebook environment"
   ]
  },
  {
   "cell_type": "code",
   "execution_count": null,
   "id": "2974d63f-cf39-4ff6-8544-ac8aa6be5e24",
   "metadata": {},
   "outputs": [],
   "source": [
    "import boto3\n",
    "\n",
    "# Define the S3 bucket name and the file paths\n",
    "bucket_name = \"your-s3-bucket-name\"\n",
    "train_file_path = \"titanic_train.csv\"\n",
    "test_file_path = \"titanic_test.csv\"\n",
    "\n",
    "# Initialize the S3 client\n",
    "s3 = boto3.client('s3')\n",
    "\n",
    "# Upload the training file\n",
    "s3.upload_file(train_file_path, bucket_name, \"titanic_data/titanic_train.csv\")\n",
    "\n",
    "# Upload the test file\n",
    "s3.upload_file(test_file_path, bucket_name, \"titanic_data/titanic_test.csv\")\n",
    "\n",
    "print(\"Files uploaded successfully.\")\n"
   ]
  },
  {
   "cell_type": "markdown",
   "id": "caf6e7f1-19f9-458c-b7e1-f2702d491cd1",
   "metadata": {},
   "source": [
    "### Check current size of bucket"
   ]
  },
  {
   "cell_type": "code",
   "execution_count": null,
   "id": "039f1d15-1e56-4d5b-8599-074875d1fe9c",
   "metadata": {},
   "outputs": [],
   "source": []
  }
 ],
 "metadata": {
  "kernelspec": {
   "display_name": "conda_python3",
   "language": "python",
   "name": "conda_python3"
  },
  "language_info": {
   "codemirror_mode": {
    "name": "ipython",
    "version": 3
   },
   "file_extension": ".py",
   "mimetype": "text/x-python",
   "name": "python",
   "nbconvert_exporter": "python",
   "pygments_lexer": "ipython3",
   "version": "3.10.15"
  }
 },
 "nbformat": 4,
 "nbformat_minor": 5
}
