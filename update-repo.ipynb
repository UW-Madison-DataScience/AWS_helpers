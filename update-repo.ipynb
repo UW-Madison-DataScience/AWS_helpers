{
 "cells": [
  {
   "cell_type": "code",
   "execution_count": 1,
   "id": "e3af79ae-4e7a-4353-b7e9-3717b51ee467",
   "metadata": {
    "tags": []
   },
   "outputs": [],
   "source": [
    "\n",
    "!git config --global user.name \"Chris Endemann\"\n",
    "!git config --global user.email endeman@wisc.edu\n"
   ]
  },
  {
   "cell_type": "code",
   "execution_count": null,
   "id": "7bf82450-c6b3-4ad6-9764-f0ed8a9d5a2e",
   "metadata": {},
   "outputs": [],
   "source": [
    "import getpass\n",
    "\n",
    "# Prompt for GitHub username and PAT securely\n",
    "# github_url = 'github.com/UW-Madison-DataScience/test_AWS.git' # found under Code -> Clone -> HTTPS (remote the https:// before the rest of the address)\n",
    "# username = input(\"GitHub Username: \")\n",
    "# token = getpass.getpass(\"GitHub Personal Access Token (PAT): \")"
   ]
  },
  {
   "cell_type": "code",
   "execution_count": null,
   "id": "a1876e11-3e1d-4fe4-a236-932542fe1775",
   "metadata": {},
   "outputs": [],
   "source": [
    "!pwd\n",
    "# !cd test_AWS"
   ]
  },
  {
   "cell_type": "code",
   "execution_count": null,
   "id": "42fdf8b1-3c6d-422a-bb95-a38c70c16673",
   "metadata": {},
   "outputs": [],
   "source": [
    "!git diff "
   ]
  },
  {
   "cell_type": "code",
   "execution_count": null,
   "id": "a80ca60f-5e62-45e3-bfbb-9b62712688e4",
   "metadata": {},
   "outputs": [],
   "source": [
    "!git add . # you may also add files one at a time, for further specificity over the associated commit message\n",
    "!git commit -m \"Updates from Jupyter notebooks\" # in general, your commit message should be more specific!\n",
    "\n",
    "!git config pull.rebase false # Combines the remote changes into your local branch as a merge commit.\n",
    "!git pull origin main\n",
    "\n",
    "!git push https://{username}:{token}@{github_url} main\n"
   ]
  },
  {
   "cell_type": "code",
   "execution_count": null,
   "id": "1266fce9-b4b4-4134-88d6-7fdcd736a32c",
   "metadata": {},
   "outputs": [],
   "source": []
  },
  {
   "cell_type": "code",
   "execution_count": null,
   "id": "ad1f6f61-28d3-4be4-9e93-f5bedcbd9780",
   "metadata": {},
   "outputs": [],
   "source": []
  },
  {
   "cell_type": "code",
   "execution_count": null,
   "id": "28cd0667-9ebd-418f-bafc-c8ff1126425a",
   "metadata": {},
   "outputs": [],
   "source": []
  },
  {
   "cell_type": "code",
   "execution_count": null,
   "id": "bbbbaca0-b333-4fc0-b185-d6b3a123e9a7",
   "metadata": {},
   "outputs": [],
   "source": []
  },
  {
   "cell_type": "code",
   "execution_count": null,
   "id": "e9f88fc0-4dc5-43b8-aa1f-1faaed6ecd3d",
   "metadata": {},
   "outputs": [],
   "source": []
  },
  {
   "cell_type": "code",
   "execution_count": null,
   "id": "e34be5f6-f87d-43aa-8dc0-99030a92caf7",
   "metadata": {},
   "outputs": [],
   "source": []
  },
  {
   "cell_type": "code",
   "execution_count": null,
   "id": "47f393cf-e481-4dfd-acbf-3862b1488e48",
   "metadata": {},
   "outputs": [],
   "source": []
  },
  {
   "cell_type": "code",
   "execution_count": null,
   "id": "c41bf6dd-d191-404d-9a27-35101349d400",
   "metadata": {},
   "outputs": [],
   "source": []
  }
 ],
 "metadata": {
  "kernelspec": {
   "display_name": "conda_python3",
   "language": "python",
   "name": "conda_python3"
  },
  "language_info": {
   "codemirror_mode": {
    "name": "ipython",
    "version": 3
   },
   "file_extension": ".py",
   "mimetype": "text/x-python",
   "name": "python",
   "nbconvert_exporter": "python",
   "pygments_lexer": "ipython3",
   "version": "3.10.15"
  }
 },
 "nbformat": 4,
 "nbformat_minor": 5
}
