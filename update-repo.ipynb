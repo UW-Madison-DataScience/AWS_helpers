{
 "cells": [
  {
   "cell_type": "code",
   "execution_count": 8,
   "id": "e3af79ae-4e7a-4353-b7e9-3717b51ee467",
   "metadata": {
    "tags": []
   },
   "outputs": [],
   "source": [
    "\n",
    "!git config --global user.name \"Chris Endemann\"\n",
    "!git config --global user.email endeman@wisc.edu\n",
    "github_url = 'github.com/UW-Madison-DataScience/test_AWS.git' # found under Code -> Clone -> HTTPS (remote the https:// before the rest of the address)\n"
   ]
  },
  {
   "cell_type": "code",
   "execution_count": 13,
   "id": "7bf82450-c6b3-4ad6-9764-f0ed8a9d5a2e",
   "metadata": {
    "tags": []
   },
   "outputs": [
    {
     "name": "stdin",
     "output_type": "stream",
     "text": [
      "GitHub Username:  qualiaMachine\n",
      "GitHub Personal Access Token (PAT):  ········\n"
     ]
    }
   ],
   "source": [
    "# import getpass\n",
    "\n",
    "# # Prompt for GitHub username and PAT securely\n",
    "# username = input(\"GitHub Username: \")\n",
    "# token = getpass.getpass(\"GitHub Personal Access Token (PAT): \")"
   ]
  },
  {
   "cell_type": "code",
   "execution_count": 14,
   "id": "a1876e11-3e1d-4fe4-a236-932542fe1775",
   "metadata": {
    "tags": []
   },
   "outputs": [
    {
     "name": "stdout",
     "output_type": "stream",
     "text": [
      "/home/ec2-user/SageMaker\n",
      "/home/ec2-user/SageMaker\n",
      "lost+found    requirements.txt\ttitanic_model.pth  train_data.npz\n",
      "model.joblib  results.txt\ttitanic_test.csv   train_large.csv\n",
      "model.tar.gz  test_AWS\t\ttitanic_train.csv  val_data.npz\n",
      "nn_model.pth  test.csv\t\ttrain.csv\t   xgboost-model\n"
     ]
    }
   ],
   "source": [
    "%cd /home/ec2-user/SageMaker/test_AWS\n",
    "!pwd\n",
    "!ls"
   ]
  },
  {
   "cell_type": "code",
   "execution_count": 15,
   "id": "42fdf8b1-3c6d-422a-bb95-a38c70c16673",
   "metadata": {
    "scrolled": true,
    "tags": []
   },
   "outputs": [
    {
     "name": "stdout",
     "output_type": "stream",
     "text": [
      "warning: Not a git repository. Use --no-index to compare two paths outside a working tree\n",
      "usage: git diff --no-index [<options>] <path> <path>\n",
      "\n",
      "Diff output format options\n",
      "    -p, --patch           generate patch\n",
      "    -s, --no-patch        suppress diff output\n",
      "    -u                    generate patch\n",
      "    -U, --unified[=<n>]   generate diffs with <n> lines context\n",
      "    -W, --function-context\n",
      "                          generate diffs with <n> lines context\n",
      "    --raw                 generate the diff in raw format\n",
      "    --patch-with-raw      synonym for '-p --raw'\n",
      "    --patch-with-stat     synonym for '-p --stat'\n",
      "    --numstat             machine friendly --stat\n",
      "    --shortstat           output only the last line of --stat\n",
      "    -X, --dirstat[=<param1,param2>...]\n",
      "                          output the distribution of relative amount of changes for each sub-directory\n",
      "    --cumulative          synonym for --dirstat=cumulative\n",
      "    --dirstat-by-file[=<param1,param2>...]\n",
      "                          synonym for --dirstat=files,param1,param2...\n",
      "    --check               warn if changes introduce conflict markers or whitespace errors\n",
      "    --summary             condensed summary such as creations, renames and mode changes\n",
      "    --name-only           show only names of changed files\n",
      "    --name-status         show only names and status of changed files\n",
      "    --stat[=<width>[,<name-width>[,<count>]]]\n",
      "                          generate diffstat\n",
      "    --stat-width <width>  generate diffstat with a given width\n",
      "    --stat-name-width <width>\n",
      "                          generate diffstat with a given name width\n",
      "    --stat-graph-width <width>\n",
      "                          generate diffstat with a given graph width\n",
      "    --stat-count <count>  generate diffstat with limited lines\n",
      "    --compact-summary     generate compact summary in diffstat\n",
      "    --binary              output a binary diff that can be applied\n",
      "    --full-index          show full pre- and post-image object names on the \"index\" lines\n",
      "    --color[=<when>]      show colored diff\n",
      "    --ws-error-highlight <kind>\n",
      "                          highlight whitespace errors in the 'context', 'old' or 'new' lines in the diff\n",
      "    -z                    do not munge pathnames and use NULs as output field terminators in --raw or --numstat\n",
      "    --abbrev[=<n>]        use <n> digits to display object names\n",
      "    --src-prefix <prefix>\n",
      "                          show the given source prefix instead of \"a/\"\n",
      "    --dst-prefix <prefix>\n",
      "                          show the given destination prefix instead of \"b/\"\n",
      "    --line-prefix <prefix>\n",
      "                          prepend an additional prefix to every line of output\n",
      "    --no-prefix           do not show any source or destination prefix\n",
      "    --inter-hunk-context <n>\n",
      "                          show context between diff hunks up to the specified number of lines\n",
      "    --output-indicator-new <char>\n",
      "                          specify the character to indicate a new line instead of '+'\n",
      "    --output-indicator-old <char>\n",
      "                          specify the character to indicate an old line instead of '-'\n",
      "    --output-indicator-context <char>\n",
      "                          specify the character to indicate a context instead of ' '\n",
      "\n",
      "Diff rename options\n",
      "    -B, --break-rewrites[=<n>[/<m>]]\n",
      "                          break complete rewrite changes into pairs of delete and create\n",
      "    -M, --find-renames[=<n>]\n",
      "                          detect renames\n",
      "    -D, --irreversible-delete\n",
      "                          omit the preimage for deletes\n",
      "    -C, --find-copies[=<n>]\n",
      "                          detect copies\n",
      "    --find-copies-harder  use unmodified files as source to find copies\n",
      "    --no-renames          disable rename detection\n",
      "    --rename-empty        use empty blobs as rename source\n",
      "    --follow              continue listing the history of a file beyond renames\n",
      "    -l <n>                prevent rename/copy detection if the number of rename/copy targets exceeds given limit\n",
      "\n",
      "Diff algorithm options\n",
      "    --minimal             produce the smallest possible diff\n",
      "    -w, --ignore-all-space\n",
      "                          ignore whitespace when comparing lines\n",
      "    -b, --ignore-space-change\n",
      "                          ignore changes in amount of whitespace\n",
      "    --ignore-space-at-eol\n",
      "                          ignore changes in whitespace at EOL\n",
      "    --ignore-cr-at-eol    ignore carrier-return at the end of line\n",
      "    --ignore-blank-lines  ignore changes whose lines are all blank\n",
      "    -I, --ignore-matching-lines <regex>\n",
      "                          ignore changes whose all lines match <regex>\n",
      "    --indent-heuristic    heuristic to shift diff hunk boundaries for easy reading\n",
      "    --patience            generate diff using the \"patience diff\" algorithm\n",
      "    --histogram           generate diff using the \"histogram diff\" algorithm\n",
      "    --diff-algorithm <algorithm>\n",
      "                          choose a diff algorithm\n",
      "    --anchored <text>     generate diff using the \"anchored diff\" algorithm\n",
      "    --word-diff[=<mode>]  show word diff, using <mode> to delimit changed words\n",
      "    --word-diff-regex <regex>\n",
      "                          use <regex> to decide what a word is\n",
      "    --color-words[=<regex>]\n",
      "                          equivalent to --word-diff=color --word-diff-regex=<regex>\n",
      "    --color-moved[=<mode>]\n",
      "                          moved lines of code are colored differently\n",
      "    --color-moved-ws <mode>\n",
      "                          how white spaces are ignored in --color-moved\n",
      "\n",
      "Other diff options\n",
      "    --relative[=<prefix>]\n",
      "                          when run from subdir, exclude changes outside and show relative paths\n",
      "    -a, --text            treat all files as text\n",
      "    -R                    swap two inputs, reverse the diff\n",
      "    --exit-code           exit with 1 if there were differences, 0 otherwise\n",
      "    --quiet               disable all output of the program\n",
      "    --ext-diff            allow an external diff helper to be executed\n",
      "    --textconv            run external text conversion filters when comparing binary files\n",
      "    --ignore-submodules[=<when>]\n",
      "                          ignore changes to submodules in the diff generation\n",
      "    --submodule[=<format>]\n",
      "                          specify how differences in submodules are shown\n",
      "    --ita-invisible-in-index\n",
      "                          hide 'git add -N' entries from the index\n",
      "    --ita-visible-in-index\n",
      "                          treat 'git add -N' entries as real in the index\n",
      "    -S <string>           look for differences that change the number of occurrences of the specified string\n",
      "    -G <regex>            look for differences that change the number of occurrences of the specified regex\n",
      "    --pickaxe-all         show all changes in the changeset with -S or -G\n",
      "    --pickaxe-regex       treat <string> in -S as extended POSIX regular expression\n",
      "    -O <file>             control the order in which files appear in the output\n",
      "    --rotate-to <path>    show the change in the specified path first\n",
      "    --skip-to <path>      skip the output to the specified path\n",
      "    --find-object <object-id>\n",
      "                          look for differences that change the number of occurrences of the specified object\n",
      "    --diff-filter [(A|C|D|M|R|T|U|X|B)...[*]]\n",
      "                          select files by diff type\n",
      "    --output <file>       output to a specific file\n",
      "\n"
     ]
    }
   ],
   "source": [
    "!git diff "
   ]
  },
  {
   "cell_type": "code",
   "execution_count": 16,
   "id": "a80ca60f-5e62-45e3-bfbb-9b62712688e4",
   "metadata": {
    "tags": []
   },
   "outputs": [
    {
     "name": "stdout",
     "output_type": "stream",
     "text": [
      "fatal: not a git repository (or any parent up to mount point /home/ec2-user)\n",
      "Stopping at filesystem boundary (GIT_DISCOVERY_ACROSS_FILESYSTEM not set).\n",
      "fatal: not a git repository (or any parent up to mount point /home/ec2-user)\n",
      "Stopping at filesystem boundary (GIT_DISCOVERY_ACROSS_FILESYSTEM not set).\n",
      "fatal: not in a git directory\n",
      "fatal: not a git repository (or any parent up to mount point /home/ec2-user)\n",
      "Stopping at filesystem boundary (GIT_DISCOVERY_ACROSS_FILESYSTEM not set).\n",
      "fatal: not a git repository (or any parent up to mount point /home/ec2-user)\n",
      "Stopping at filesystem boundary (GIT_DISCOVERY_ACROSS_FILESYSTEM not set).\n"
     ]
    }
   ],
   "source": [
    "!git add . # you may also add files one at a time, for further specificity over the associated commit message\n",
    "!git commit -m \"Updates from Jupyter notebooks\" # in general, your commit message should be more specific!\n",
    "\n",
    "!git config pull.rebase false # Combines the remote changes into your local branch as a merge commit.\n",
    "!git pull origin main\n",
    "\n",
    "!git push https://{username}:{token}@{github_url} main\n"
   ]
  },
  {
   "cell_type": "code",
   "execution_count": null,
   "id": "1266fce9-b4b4-4134-88d6-7fdcd736a32c",
   "metadata": {},
   "outputs": [],
   "source": [
    "%cd /home/ec2-user/SageMaker/\n"
   ]
  },
  {
   "cell_type": "code",
   "execution_count": null,
   "id": "ad1f6f61-28d3-4be4-9e93-f5bedcbd9780",
   "metadata": {},
   "outputs": [],
   "source": []
  },
  {
   "cell_type": "code",
   "execution_count": null,
   "id": "28cd0667-9ebd-418f-bafc-c8ff1126425a",
   "metadata": {},
   "outputs": [],
   "source": []
  },
  {
   "cell_type": "code",
   "execution_count": null,
   "id": "bbbbaca0-b333-4fc0-b185-d6b3a123e9a7",
   "metadata": {},
   "outputs": [],
   "source": []
  },
  {
   "cell_type": "code",
   "execution_count": null,
   "id": "e9f88fc0-4dc5-43b8-aa1f-1faaed6ecd3d",
   "metadata": {},
   "outputs": [],
   "source": []
  },
  {
   "cell_type": "code",
   "execution_count": null,
   "id": "e34be5f6-f87d-43aa-8dc0-99030a92caf7",
   "metadata": {},
   "outputs": [],
   "source": []
  },
  {
   "cell_type": "code",
   "execution_count": null,
   "id": "47f393cf-e481-4dfd-acbf-3862b1488e48",
   "metadata": {},
   "outputs": [],
   "source": []
  },
  {
   "cell_type": "code",
   "execution_count": null,
   "id": "c41bf6dd-d191-404d-9a27-35101349d400",
   "metadata": {},
   "outputs": [],
   "source": []
  }
 ],
 "metadata": {
  "kernelspec": {
   "display_name": "conda_python3",
   "language": "python",
   "name": "conda_python3"
  },
  "language_info": {
   "codemirror_mode": {
    "name": "ipython",
    "version": 3
   },
   "file_extension": ".py",
   "mimetype": "text/x-python",
   "name": "python",
   "nbconvert_exporter": "python",
   "pygments_lexer": "ipython3",
   "version": "3.10.15"
  }
 },
 "nbformat": 4,
 "nbformat_minor": 5
}
