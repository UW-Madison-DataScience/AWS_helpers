{
 "cells": [
  {
   "cell_type": "markdown",
   "id": "98c1c494-af7a-41d1-830e-f39ca0ce8052",
   "metadata": {},
   "source": [
    "### Using a GitHub Personal Access Token (PAT) to Push from a SageMaker Notebook\n",
    "\n",
    "When working in SageMaker notebooks, you may often need to push code updates to GitHub repositories. However, SageMaker notebooks are typically launched with temporary instances that don’t persist configurations, including SSH keys, across sessions. This makes HTTPS-based authentication, secured with a GitHub Personal Access Token (PAT), a practical solution. PATs provide flexibility for authentication and enable seamless interaction with both public and private repositories directly from your notebook. \n",
    "\n",
    "> **Important Note**: Personal access tokens are powerful credentials that grant specific permissions to your GitHub account. To ensure security, only select the minimum necessary permissions and handle the token carefully.\n",
    "\n",
    "\n",
    "### Step 1: Generate a Personal Access Token (PAT) on GitHub\n",
    "\n",
    "1. Go to **Settings > Developer settings > Personal access tokens** on GitHub.\n",
    "2. Click **Generate new token**, select **Classic**.\n",
    "3. Give your token a descriptive name (e.g., \"SageMaker Access Token\") and set an expiration date if desired for added security.\n",
    "4. **Select the minimum permissions needed**:\n",
    "   - **For public repositories**: Choose only **`public_repo`**.\n",
    "   - **For private repositories**: Choose **`repo`** (full control of private repositories).\n",
    "   - Optional permissions, if needed:\n",
    "     - **`repo:status`**: Access commit status (if checking status checks).\n",
    "     - **`workflow`**: Update GitHub Actions workflows (only if working with GitHub Actions).\n",
    "5. Generate the token and **copy it** (you won’t be able to see it again).\n",
    "\n",
    "> **Caution**: Treat your PAT like a password. Avoid sharing it or exposing it in your code. Store it securely (e.g., via a password manager like LastPass) and consider rotating it regularly.\n",
    "\n",
    "### Step 2: Temporarily Store the PAT in an Environment Variable on SageMaker\n",
    "\n",
    "To avoid embedding the PAT directly in commands, you can temporarily set it as an environment variable in your SageMaker notebook:\n",
    "\n"
   ]
  },
  {
   "cell_type": "code",
   "execution_count": 14,
   "id": "140fe9ad-d663-449b-af4f-f4b63fcf3a73",
   "metadata": {
    "tags": []
   },
   "outputs": [],
   "source": [
    "\n",
    "import os\n",
    "\n",
    "# Replace 'your-token' with your actual GitHub PAT\n",
    "# os.environ[\"GITHUB_PAT\"] = \"your_token\"\n",
    "\n"
   ]
  },
  {
   "cell_type": "markdown",
   "id": "e7e4782d-88a0-4702-a8c4-935942cf74e5",
   "metadata": {},
   "source": [
    "> **Note**: **Delete this cell after running it** to ensure the token isn’t permanently stored in your notebook code.\n",
    "\n",
    "The environment variables reset when the instance is stopped and started again, so any setup involving environment variables or temporary credentials (like a PAT) needs to be re-executed after each restart."
   ]
  },
  {
   "cell_type": "markdown",
   "id": "ec6464ac-9935-4538-b52f-a7b01c96fd78",
   "metadata": {},
   "source": [
    "### Step 3: Configure Git to Use HTTPS with the PAT\n",
    "\n",
    "Now you’ll configure Git to use HTTPS with the stored token.\n",
    "\n",
    "1. **Set up Git to store credentials**:\n",
    "\n",
    "    ```python\n",
    "    # Set up Git to store the credentials\n",
    "    !git config --global credential.helper 'store'\n",
    "    ```\n",
    "\n",
    "2. **Create a Git credentials helper** that reads the PAT from the environment variable, saving it temporarily to `~/.git-credentials` so Git can authenticate automatically.\n",
    "\n",
    "    ```python\n",
    "    # Create the .git-credentials file with the PAT\n",
    "    with open(os.path.expanduser(\"~/.git-credentials\"), \"w\") as f:\n",
    "        f.write(f\"https://{os.environ['GITHUB_PAT']}@github.com\\n\")\n",
    "    ```\n",
    "\n",
    "3. **Set your Git username and email** (if you haven’t already):\n",
    "\n",
    "    ```python\n",
    "    !git config --global user.name \"your-username\"\n",
    "    !git config --global user.email \"your-email@example.com\"\n",
    "    ```\n",
    "\n",
    "4. **Remove the PAT from the environment variable** immediately after it’s no longer needed:\n",
    "\n",
    "    ```python\n",
    "    del os.environ[\"GITHUB_PAT\"]\n",
    "    ```\n",
    "\n",
    "### Step 4: Push Changes to GitHub\n",
    "\n",
    "Now you can add, commit, and push your changes to GitHub without being prompted for credentials:\n",
    "\n",
    "```python\n",
    "# Navigate to the repository directory (adjust path if needed)\n",
    "%cd test_AWS\n",
    "\n",
    "# Add, commit, and push changes\n",
    "!git add .\n",
    "!git commit -m \"Added updates from Jupyter notebook\"\n",
    "!git push origin main\n",
    "```\n",
    "\n",
    "### Optional Security Cleanup\n",
    "\n",
    "Once you’ve completed your push, you may want to remove the saved PAT from `~/.git-credentials` for additional security, especially if you’re working in a shared environment:\n",
    "\n",
    "```python\n",
    "!rm ~/.git-credentials\n",
    "```\n",
    "\n",
    "---\n",
    "\n",
    "### Summary\n",
    "\n",
    "Using a PAT in a SageMaker notebook provides the flexibility to push updates to GitHub securely, even in temporary or ephemeral environments. By selecting only the permissions you need and managing your token carefully, you can safely automate GitHub interactions while maintaining the security of your repositories."
   ]
  },
  {
   "cell_type": "code",
   "execution_count": 9,
   "id": "170bc5ec-70b2-4266-824d-0835828fcdd1",
   "metadata": {
    "tags": []
   },
   "outputs": [
    {
     "name": "stdout",
     "output_type": "stream",
     "text": [
      "00_Data-storage-and-access-via-buckets.ipynb  push-updates.ipynb\n",
      "01_Intro-train-models.ipynb\t\t      __pycache__\n",
      "02_Hyperparameter-tuning.ipynb\t\t      README.md\n",
      "create_large_data.ipynb\t\t\t      train_nn.py\n",
      "data\t\t\t\t\t      train_xgboost.py\n",
      "LICENSE\n"
     ]
    }
   ],
   "source": [
    "\n",
    "!git config --global user.name \"Chris Endemann\"\n",
    "!git config --global user.email endeman@wisc.edu\n",
    "!ls"
   ]
  },
  {
   "cell_type": "code",
   "execution_count": 10,
   "id": "98178dcf-73d0-4c4d-bf59-8db0f759903c",
   "metadata": {
    "tags": []
   },
   "outputs": [
    {
     "name": "stdout",
     "output_type": "stream",
     "text": [
      "On branch main\n",
      "Your branch is ahead of 'origin/main' by 4 commits.\n",
      "  (use \"git push\" to publish your local commits)\n",
      "\n",
      "nothing to commit, working tree clean\n",
      "Username for 'https://github.com/UW-Madison-DataScience/test_AWS.git': ^C\n"
     ]
    }
   ],
   "source": [
    "!git add .\n",
    "!git commit -m \"Added updates from SageMaker notebooks\"\n",
    "!git push origin main\n"
   ]
  }
 ],
 "metadata": {
  "kernelspec": {
   "display_name": "conda_python3",
   "language": "python",
   "name": "conda_python3"
  },
  "language_info": {
   "codemirror_mode": {
    "name": "ipython",
    "version": 3
   },
   "file_extension": ".py",
   "mimetype": "text/x-python",
   "name": "python",
   "nbconvert_exporter": "python",
   "pygments_lexer": "ipython3",
   "version": "3.10.15"
  }
 },
 "nbformat": 4,
 "nbformat_minor": 5
}
