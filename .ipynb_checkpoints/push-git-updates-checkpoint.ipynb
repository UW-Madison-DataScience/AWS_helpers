{
 "cells": [
  {
   "cell_type": "markdown",
   "id": "98c1c494-af7a-41d1-830e-f39ca0ce8052",
   "metadata": {},
   "source": [
    "### Using a GitHub Personal Access Token (PAT) to Push from a SageMaker Notebook\n",
    "\n",
    "When working in SageMaker notebooks, you may often need to push code updates to GitHub repositories. However, SageMaker notebooks are typically launched with temporary instances that don’t persist configurations, including SSH keys, across sessions. This makes HTTPS-based authentication, secured with a GitHub Personal Access Token (PAT), a practical solution. PATs provide flexibility for authentication and enable seamless interaction with both public and private repositories directly from your notebook. \n",
    "\n",
    "> **Important Note**: Personal access tokens are powerful credentials that grant specific permissions to your GitHub account. To ensure security, only select the minimum necessary permissions and handle the token carefully.\n",
    "\n",
    "\n",
    "### Step 1: Generate a Personal Access Token (PAT) on GitHub\n",
    "\n",
    "1. Go to **Settings > Developer settings > Personal access tokens** on GitHub.\n",
    "2. Click **Generate new token**, select **Classic**.\n",
    "3. Give your token a descriptive name (e.g., \"SageMaker Access Token\") and set an expiration date if desired for added security.\n",
    "4. **Select the minimum permissions needed**:\n",
    "   - **For public repositories**: Choose only **`public_repo`**.\n",
    "   - **For private repositories**: Choose **`repo`** (full control of private repositories).\n",
    "   - Optional permissions, if needed:\n",
    "     - **`repo:status`**: Access commit status (if checking status checks).\n",
    "     - **`workflow`**: Update GitHub Actions workflows (only if working with GitHub Actions).\n",
    "5. Generate the token and **copy it** (you won’t be able to see it again).\n",
    "\n",
    "> **Caution**: Treat your PAT like a password. Avoid sharing it or exposing it in your code. Store it securely (e.g., via a password manager like LastPass) and consider rotating it regularly.\n"
   ]
  },
  {
   "cell_type": "markdown",
   "id": "8519df3b-a610-45bd-bc97-89d202f08f0f",
   "metadata": {},
   "source": [
    "### Step 2: Configure Git `user.name` and `user.email`\n",
    "In your SageMaker or Jupyter notebook environment, run the following commands to set up your Git user information\n"
   ]
  },
  {
   "cell_type": "code",
   "execution_count": 44,
   "id": "170bc5ec-70b2-4266-824d-0835828fcdd1",
   "metadata": {},
   "outputs": [],
   "source": [
    "\n",
    "!git config --global user.name \"Chris Endemann\"\n",
    "!git config --global user.email endeman@wisc.edu\n"
   ]
  },
  {
   "cell_type": "markdown",
   "id": "355b1e89-6625-403b-a746-e88fc3e4c703",
   "metadata": {},
   "source": [
    "### Explanation\n",
    "\n",
    "- **`user.name`**: This is your GitHub username, which will appear in the commit history as the author of the changes.\n",
    "- **`user.email`**: This should match the email associated with your GitHub account so that commits are properly linked to your profile.\n",
    "\n",
    "Setting this globally (`--global`) will ensure the configuration persists across all repositories in the environment. If you’re working in a temporary environment, you may need to re-run this configuration after a restart."
   ]
  },
  {
   "cell_type": "markdown",
   "id": "027f1b11-e43b-45ab-8315-a429805452f0",
   "metadata": {},
   "source": [
    "### Step 3: Use `getpass` to Prompt for Username and PAT\n",
    "\n",
    "The `getpass` library allows you to input your GitHub username and PAT without exposing them in the notebook. This approach ensures you’re not hardcoding sensitive information.\n"
   ]
  },
  {
   "cell_type": "code",
   "execution_count": 45,
   "id": "b41eaac5-69eb-4e88-8bda-1ba7e25a0beb",
   "metadata": {
    "tags": []
   },
   "outputs": [],
   "source": [
    "import getpass\n",
    "\n",
    "# Prompt for GitHub username and PAT securely\n",
    "# github_url = 'github.com/UW-Madison-DataScience/test_AWS.git' # found under Code -> Clone -> HTTPS (remote the https:// before the rest of the address)\n",
    "# username = input(\"GitHub Username: \")\n",
    "# token = getpass.getpass(\"GitHub Personal Access Token (PAT): \")"
   ]
  },
  {
   "cell_type": "markdown",
   "id": "9b1856be-09fe-4010-94d0-02666b2b6a28",
   "metadata": {},
   "source": [
    "**Note**: After running, you may want to comment out the above code so that you don't have to enter in your login every time you run your whole notebook"
   ]
  },
  {
   "cell_type": "markdown",
   "id": "795dac33-3a26-40cd-b517-59b8600f68f8",
   "metadata": {
    "tags": []
   },
   "source": [
    "\n",
    "### Explanation\n",
    "\n",
    "- **`input(\"GitHub Username: \")`**: Prompts you to enter your GitHub username.\n",
    "- **`getpass.getpass(\"GitHub Personal Access Token (PAT): \")`**: Prompts you to securely enter the PAT, keeping it hidden on the screen.\n"
   ]
  },
  {
   "cell_type": "markdown",
   "id": "ebe5fe80-bc91-46ff-827e-257736d3f46c",
   "metadata": {},
   "source": [
    "\n",
    "### Step 4: Add, Commit, and Push Changes with Manual Authentication\n",
    "1. **Navigate to the Repository Directory** (adjust the path if needed):\n"
   ]
  },
  {
   "cell_type": "code",
   "execution_count": 32,
   "id": "633b7da6-05aa-4c0d-b9ad-1677100fb994",
   "metadata": {
    "tags": []
   },
   "outputs": [
    {
     "name": "stdout",
     "output_type": "stream",
     "text": [
      "/home/ec2-user/SageMaker/test_AWS\n"
     ]
    }
   ],
   "source": [
    "!pwd\n",
    "# !cd test_AWS"
   ]
  },
  {
   "cell_type": "markdown",
   "id": "4c87d7e0-e14e-4b04-a5a2-5ac742e6b467",
   "metadata": {},
   "source": [
    "\n",
    "2. **Add and Commit Changes**:\n",
    "\n"
   ]
  },
  {
   "cell_type": "code",
   "execution_count": 41,
   "id": "1681c48e-9d03-490a-ae4c-2ae84275c7ee",
   "metadata": {
    "tags": []
   },
   "outputs": [
    {
     "name": "stdout",
     "output_type": "stream",
     "text": [
      "[main ebe991c] Added updates from Jupyter notebook\n",
      " 3 files changed, 261 insertions(+), 2635 deletions(-)\n",
      " delete mode 100644 01_intro-train-models.ipynb\n"
     ]
    }
   ],
   "source": [
    "!git add .\n",
    "!git commit -m \"Added updates from Jupyter notebook\"\n"
   ]
  },
  {
   "cell_type": "markdown",
   "id": "3cebecd0-9f39-43c6-8efa-070c7748c52c",
   "metadata": {
    "tags": []
   },
   "source": [
    "3. **Pull the Latest Changes from the Main Branch**: Pull the latest changes from the remote main branch to ensure your local branch is up-to-date.\n",
    "\n",
    "    Recommended: Set the Pull Strategy for this Repository (Merge by Default)\n",
    "\n",
    "    All options:\n",
    "\n",
    "    * Merge (pull.rebase false): Combines the remote changes into your local branch as a merge commit.\n",
    "    * Rebase (pull.rebase true): Replays your local changes on top of the updated main branch, resulting in a linear history.\n",
    "    * Fast-forward only (pull.ff only): Only pulls if the local branch can fast-forward to the remote without diverging (no new commits locally)."
   ]
  },
  {
   "cell_type": "code",
   "execution_count": 38,
   "id": "144840f8-9733-4888-99d4-3b04c12458ee",
   "metadata": {
    "tags": []
   },
   "outputs": [
    {
     "name": "stdout",
     "output_type": "stream",
     "text": [
      "From https://github.com/UW-Madison-DataScience/test_AWS\n",
      " * branch            main       -> FETCH_HEAD\n",
      "Auto-merging train_nn.py\n",
      "CONFLICT (add/add): Merge conflict in train_nn.py\n",
      "Auto-merging train_xgboost.py\n",
      "CONFLICT (content): Merge conflict in train_xgboost.py\n",
      "Automatic merge failed; fix conflicts and then commit the result.\n"
     ]
    }
   ],
   "source": [
    "!git config pull.rebase false # Combines the remote changes into your local branch as a merge commit.\n",
    "\n",
    "!git pull origin main\n"
   ]
  },
  {
   "cell_type": "markdown",
   "id": "a20ad564-df9f-4484-b39f-771f57e99123",
   "metadata": {},
   "source": [
    "If you get merge conflicts, be sure to resolve those before moving forward (e.g., use git checkout -> add -> commit). You can skip the below code if you don't have any conflicts. "
   ]
  },
  {
   "cell_type": "code",
   "execution_count": 46,
   "id": "31ed04f1-6a2d-4d04-bda9-cdd9dc8f84ce",
   "metadata": {
    "tags": []
   },
   "outputs": [],
   "source": [
    "# Keep your local changes in one conflicting file\n",
    "# !git checkout --ours train_nn.py\n",
    "\n",
    "# Keep remote version for the other conflicting file\n",
    "# !git checkout --theirs train_xgboost.py\n",
    "\n",
    "# # Stage the files to mark the conflicts as resolved\n",
    "# !git add train_nn.py\n",
    "# !git add train_xgboost.py\n",
    "\n",
    "# # Commit the merge result\n",
    "# !git commit -m \"Resolved merge conflicts by keeping local changes\""
   ]
  },
  {
   "cell_type": "markdown",
   "id": "9dfce6eb-ee29-48bd-9895-56b0abf4b3e7",
   "metadata": {},
   "source": [
    "4. **Push Changes and Enter Credentials**:"
   ]
  },
  {
   "cell_type": "code",
   "execution_count": 43,
   "id": "86cd209c-9b93-488e-a159-f6f65f94511c",
   "metadata": {
    "tags": []
   },
   "outputs": [
    {
     "name": "stdout",
     "output_type": "stream",
     "text": [
      "Everything up-to-date\n"
     ]
    }
   ],
   "source": [
    "# Push with embedded credentials from getpass (avoids interactive prompt)\n",
    "!git push https://{username}:{token}@{github_url} main\n",
    "\n",
    " "
   ]
  },
  {
   "cell_type": "markdown",
   "id": "76d73ae6-bb5b-4547-af25-0d1d2636084f",
   "metadata": {},
   "source": [
    "When you run this `push` command, Git will prompt for:\n",
    "- **Username**: Enter your GitHub username.\n",
    "- **Password**: Paste your PAT (even though it’s called “password,” GitHub expects the PAT here).\n",
    "\n",
    "This method securely avoids storing any credentials in the notebook environment or local files.\n",
    "\n",
    "\n"
   ]
  }
 ],
 "metadata": {
  "kernelspec": {
   "display_name": "conda_python3",
   "language": "python",
   "name": "conda_python3"
  },
  "language_info": {
   "codemirror_mode": {
    "name": "ipython",
    "version": 3
   },
   "file_extension": ".py",
   "mimetype": "text/x-python",
   "name": "python",
   "nbconvert_exporter": "python",
   "pygments_lexer": "ipython3",
   "version": "3.10.15"
  }
 },
 "nbformat": 4,
 "nbformat_minor": 5
}
