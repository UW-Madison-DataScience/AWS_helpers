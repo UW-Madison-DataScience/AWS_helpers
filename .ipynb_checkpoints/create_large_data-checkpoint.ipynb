{
 "cells": [
  {
   "cell_type": "code",
   "execution_count": null,
   "id": "72b30b12-26e5-4ab7-b4d0-2f39d4b94aef",
   "metadata": {},
   "outputs": [],
   "source": [
    "import pandas as pd\n",
    "\n",
    "# Load the original Titanic training dataset\n",
    "df = pd.read_csv('train.csv')\n",
    "\n",
    "n_rows = 5000000\n",
    "\n",
    "# Calculate how many times we need to duplicate the dataset to reach ~20,000 rows\n",
    "num_duplicates = (n_rows // len(df)) + 1\n",
    "\n",
    "# Concatenate the original dataset with itself to reach the desired number of rows\n",
    "df_expanded = pd.concat([df] * num_duplicates, ignore_index=True)\n",
    "\n",
    "# Truncate the DataFrame to exactly 20,000 rows\n",
    "df_expanded = df_expanded.iloc[:n_rows]\n",
    "\n",
    "# Save the expanded dataset as train_large.csv\n",
    "df_expanded.to_csv('train_large.csv', index=False)\n",
    "\n",
    "print(\"Expanded dataset saved as train_large.csv with\", len(df_expanded), \"rows.\")\n"
   ]
  }
 ],
 "metadata": {
  "kernelspec": {
   "display_name": "conda_pytorch_p310",
   "language": "python",
   "name": "conda_pytorch_p310"
  },
  "language_info": {
   "codemirror_mode": {
    "name": "ipython",
    "version": 3
   },
   "file_extension": ".py",
   "mimetype": "text/x-python",
   "name": "python",
   "nbconvert_exporter": "python",
   "pygments_lexer": "ipython3",
   "version": "3.10.14"
  }
 },
 "nbformat": 4,
 "nbformat_minor": 5
}
