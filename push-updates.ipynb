{
 "cells": [
  {
   "cell_type": "code",
   "execution_count": null,
   "id": "ddc7bc13-645e-425f-a818-e1fe62868c5e",
   "metadata": {
    "tags": []
   },
   "outputs": [
    {
     "name": "stdout",
     "output_type": "stream",
     "text": [
      "[Errno 2] No such file or directory: 'test_AWS'\n",
      "/home/ec2-user/SageMaker/test_AWS\n",
      "[main dcefed9] Added updates from SageMaker notebooks\n",
      " Committer: EC2 Default User <ec2-user@ip-172-16-180-73.ec2.internal>\n",
      "Your name and email address were configured automatically based\n",
      "on your username and hostname. Please check that they are accurate.\n",
      "You can suppress this message by setting them explicitly:\n",
      "\n",
      "    git config --global user.name \"Your Name\"\n",
      "    git config --global user.email you@example.com\n",
      "\n",
      "After doing this, you may fix the identity used for this commit with:\n",
      "\n",
      "    git commit --amend --reset-author\n",
      "\n",
      " 17 files changed, 7677 insertions(+), 9 deletions(-)\n",
      " create mode 100644 .ipynb_checkpoints/00_Data-storage-and-access-via-buckets-checkpoint.ipynb\n",
      " create mode 100644 .ipynb_checkpoints/01_Intro-train-models-checkpoint.ipynb\n",
      " create mode 100644 .ipynb_checkpoints/02_Hyperparameter-tuning-checkpoint.ipynb\n",
      " create mode 100644 .ipynb_checkpoints/create_large_data-checkpoint.ipynb\n",
      " create mode 100644 .ipynb_checkpoints/push-updates-checkpoint.ipynb\n",
      " create mode 100644 .ipynb_checkpoints/train_nn-checkpoint.py\n",
      " rename train.py => .ipynb_checkpoints/train_xgboost-checkpoint.py (85%)\n",
      " create mode 100644 00_Data-storage-and-access-via-buckets.ipynb\n",
      " create mode 100644 01_Intro-train-models.ipynb\n",
      " create mode 100644 02_Hyperparameter-tuning.ipynb\n",
      " create mode 100644 __pycache__/train_xgboost.cpython-310.pyc\n",
      " create mode 100644 create_large_data.ipynb\n",
      " create mode 100644 data/titanic_test.csv\n",
      " create mode 100644 data/titanic_train.csv\n",
      " create mode 100644 push-updates.ipynb\n",
      " create mode 100644 train_nn.py\n",
      " create mode 100644 train_xgboost.py\n",
      "Username for 'https://github.com/UW-Madison-DataScience/test_AWS.git': "
     ]
    }
   ],
   "source": [
    "# Navigate to the cloned repository directory (adjust the path if needed)\n",
    "%cd test_AWS\n",
    "\n",
    "# Add all changes\n",
    "!git add .\n",
    "\n",
    "# Commit the changes with a message\n",
    "!git commit -m \"Added updates from SageMaker notebooks\"\n",
    "\n",
    "# Push the changes to the repository\n",
    "!git push origin main\n"
   ]
  },
  {
   "cell_type": "code",
   "execution_count": null,
   "id": "d078842d-f831-443b-aabc-19952db295a2",
   "metadata": {},
   "outputs": [],
   "source": []
  }
 ],
 "metadata": {
  "kernelspec": {
   "display_name": "conda_python3",
   "language": "python",
   "name": "conda_python3"
  },
  "language_info": {
   "codemirror_mode": {
    "name": "ipython",
    "version": 3
   },
   "file_extension": ".py",
   "mimetype": "text/x-python",
   "name": "python",
   "nbconvert_exporter": "python",
   "pygments_lexer": "ipython3",
   "version": "3.10.15"
  }
 },
 "nbformat": 4,
 "nbformat_minor": 5
}
