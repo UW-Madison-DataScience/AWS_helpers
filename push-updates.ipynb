{
 "cells": [
  {
   "cell_type": "markdown",
   "id": "98c1c494-af7a-41d1-830e-f39ca0ce8052",
   "metadata": {},
   "source": [
    "### Using a GitHub Personal Access Token (PAT) to Push from a SageMaker Notebook\n",
    "\n",
    "When working in SageMaker notebooks, you may often need to push code updates to GitHub repositories. However, SageMaker notebooks are typically launched with temporary instances that don’t persist configurations, including SSH keys, across sessions. This makes HTTPS-based authentication, secured with a GitHub Personal Access Token (PAT), a practical solution. PATs provide flexibility for authentication and enable seamless interaction with both public and private repositories directly from your notebook. \n",
    "\n",
    "> **Important Note**: Personal access tokens are powerful credentials that grant specific permissions to your GitHub account. To ensure security, only select the minimum necessary permissions and handle the token carefully.\n",
    "\n",
    "\n",
    "### Step 1: Generate a Personal Access Token (PAT) on GitHub\n",
    "\n",
    "1. Go to **Settings > Developer settings > Personal access tokens** on GitHub.\n",
    "2. Click **Generate new token**, select **Classic**.\n",
    "3. Give your token a descriptive name (e.g., \"SageMaker Access Token\") and set an expiration date if desired for added security.\n",
    "4. **Select the minimum permissions needed**:\n",
    "   - **For public repositories**: Choose only **`public_repo`**.\n",
    "   - **For private repositories**: Choose **`repo`** (full control of private repositories).\n",
    "   - Optional permissions, if needed:\n",
    "     - **`repo:status`**: Access commit status (if checking status checks).\n",
    "     - **`workflow`**: Update GitHub Actions workflows (only if working with GitHub Actions).\n",
    "5. Generate the token and **copy it** (you won’t be able to see it again).\n",
    "\n",
    "> **Caution**: Treat your PAT like a password. Avoid sharing it or exposing it in your code. Store it securely (e.g., via a password manager like LastPass) and consider rotating it regularly.\n",
    "\n",
    "### Step 2: Temporarily Store the PAT in an Environment Variable on SageMaker\n",
    "\n",
    "To avoid embedding the PAT directly in commands, you can temporarily set it as an environment variable in your SageMaker notebook:\n",
    "\n"
   ]
  },
  {
   "cell_type": "code",
   "execution_count": 14,
   "id": "140fe9ad-d663-449b-af4f-f4b63fcf3a73",
   "metadata": {
    "tags": []
   },
   "outputs": [],
   "source": [
    "\n",
    "import os\n",
    "\n",
    "# Replace 'your-token' with your actual GitHub PAT\n",
    "\n",
    "# os.environ[\"GITHUB_PAT\"] = \"your_token\"\n"
   ]
  },
  {
   "cell_type": "markdown",
   "id": "e7e4782d-88a0-4702-a8c4-935942cf74e5",
   "metadata": {},
   "source": [
    "> **Note**: **Delete this cell after running it** to ensure the token isn’t permanently stored in your notebook code.\n",
    "\n",
    "The environment variables reset when the instance is stopped and started again, so any setup involving environment variables or temporary credentials (like a PAT) needs to be re-executed after each restart."
   ]
  },
  {
   "cell_type": "markdown",
   "id": "027f1b11-e43b-45ab-8315-a429805452f0",
   "metadata": {},
   "source": [
    "\n",
    "### Step 2: Ensure Git Doesn’t Store Credentials\n",
    "\n",
    "To securely enter your GitHub credentials (username and PAT) each time you push, we’ll remove any settings that might save them:\n",
    "\n",
    "1. **Unset Credential Helper**: This ensures Git won’t store your credentials between sessions.\n",
    "\n"
   ]
  },
  {
   "cell_type": "code",
   "execution_count": 18,
   "id": "86bf00c5-4040-4290-8ea8-e6a9228a2c60",
   "metadata": {
    "tags": []
   },
   "outputs": [],
   "source": [
    "# Remove any configured Git credential helpers\n",
    "!git config --global --unset credential.helper\n",
    "\n"
   ]
  },
  {
   "cell_type": "markdown",
   "id": "ebe5fe80-bc91-46ff-827e-257736d3f46c",
   "metadata": {},
   "source": [
    "\n",
    "### Step 3: Add, Commit, and Push Changes with Manual Authentication\n",
    "1. **Navigate to the Repository Directory** (adjust the path if needed):\n"
   ]
  },
  {
   "cell_type": "code",
   "execution_count": 19,
   "id": "633b7da6-05aa-4c0d-b9ad-1677100fb994",
   "metadata": {
    "tags": []
   },
   "outputs": [
    {
     "name": "stdout",
     "output_type": "stream",
     "text": [
      "/home/ec2-user/SageMaker/test_AWS\n"
     ]
    }
   ],
   "source": [
    "!pwd\n",
    "\n"
   ]
  },
  {
   "cell_type": "code",
   "execution_count": null,
   "id": "6fd3b984-2ae2-4c86-8bf7-57bf419dd1c0",
   "metadata": {},
   "outputs": [],
   "source": [
    "!cd test_AWS\n"
   ]
  },
  {
   "cell_type": "code",
   "execution_count": null,
   "id": "f0902b5e-88b5-463b-81c3-21659768819c",
   "metadata": {},
   "outputs": [],
   "source": [
    "\n",
    "2. **Add and Commit Changes**:\n",
    "\n",
    "   ```python\n",
    "   !git add .\n",
    "   !git commit -m \"Added updates from Jupyter notebook\"\n",
    "   ```\n",
    "\n",
    "3. **Push Changes and Enter Credentials**:\n",
    "\n",
    "   ```python\n",
    "   !git push origin main\n",
    "   ```\n",
    "\n",
    "   When you run this `push` command, Git will prompt for:\n",
    "   - **Username**: Enter your GitHub username.\n",
    "   - **Password**: Paste your PAT (even though it’s called “password,” GitHub expects the PAT here).\n",
    "\n",
    "   This method securely avoids storing any credentials in the notebook environment or local files.\n",
    "\n",
    "---\n",
    "\n",
    "### Summary\n",
    "\n",
    "By entering credentials manually for each push, you prevent storing sensitive information, maintaining the security of your PAT and GitHub account. This is the most secure approach, particularly in shared or temporary environments like SageMaker notebooks."
   ]
  },
  {
   "cell_type": "code",
   "execution_count": null,
   "id": "1681c48e-9d03-490a-ae4c-2ae84275c7ee",
   "metadata": {},
   "outputs": [],
   "source": []
  },
  {
   "cell_type": "code",
   "execution_count": null,
   "id": "294ff976-d89c-4fdd-81af-12dd258822e6",
   "metadata": {},
   "outputs": [],
   "source": []
  },
  {
   "cell_type": "code",
   "execution_count": 9,
   "id": "170bc5ec-70b2-4266-824d-0835828fcdd1",
   "metadata": {
    "tags": []
   },
   "outputs": [
    {
     "name": "stdout",
     "output_type": "stream",
     "text": [
      "00_Data-storage-and-access-via-buckets.ipynb  push-updates.ipynb\n",
      "01_Intro-train-models.ipynb\t\t      __pycache__\n",
      "02_Hyperparameter-tuning.ipynb\t\t      README.md\n",
      "create_large_data.ipynb\t\t\t      train_nn.py\n",
      "data\t\t\t\t\t      train_xgboost.py\n",
      "LICENSE\n"
     ]
    }
   ],
   "source": [
    "\n",
    "!git config --global user.name \"Chris Endemann\"\n",
    "!git config --global user.email endeman@wisc.edu\n",
    "!ls"
   ]
  },
  {
   "cell_type": "code",
   "execution_count": 10,
   "id": "98178dcf-73d0-4c4d-bf59-8db0f759903c",
   "metadata": {
    "tags": []
   },
   "outputs": [
    {
     "name": "stdout",
     "output_type": "stream",
     "text": [
      "On branch main\n",
      "Your branch is ahead of 'origin/main' by 4 commits.\n",
      "  (use \"git push\" to publish your local commits)\n",
      "\n",
      "nothing to commit, working tree clean\n",
      "Username for 'https://github.com/UW-Madison-DataScience/test_AWS.git': ^C\n"
     ]
    }
   ],
   "source": [
    "!git add .\n",
    "!git commit -m \"Added updates from SageMaker notebooks\"\n",
    "!git push origin main\n"
   ]
  }
 ],
 "metadata": {
  "kernelspec": {
   "display_name": "conda_python3",
   "language": "python",
   "name": "conda_python3"
  },
  "language_info": {
   "codemirror_mode": {
    "name": "ipython",
    "version": 3
   },
   "file_extension": ".py",
   "mimetype": "text/x-python",
   "name": "python",
   "nbconvert_exporter": "python",
   "pygments_lexer": "ipython3",
   "version": "3.10.15"
  }
 },
 "nbformat": 4,
 "nbformat_minor": 5
}
