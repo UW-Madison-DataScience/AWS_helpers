{
 "cells": [
  {
   "cell_type": "code",
   "execution_count": 3,
   "id": "170bc5ec-70b2-4266-824d-0835828fcdd1",
   "metadata": {
    "tags": []
   },
   "outputs": [
    {
     "name": "stdout",
     "output_type": "stream",
     "text": [
      "00_Data-storage-and-access-via-buckets.ipynb  push-updates.ipynb\n",
      "01_Intro-train-models.ipynb\t\t      __pycache__\n",
      "02_Hyperparameter-tuning.ipynb\t\t      README.md\n",
      "create_large_data.ipynb\t\t\t      train_nn.py\n",
      "data\t\t\t\t\t      train_xgboost.py\n",
      "LICENSE\n"
     ]
    }
   ],
   "source": [
    "\n",
    "!git config --global user.name \"Chris Endemann\"\n",
    "!git config --global user.email endeman@wisc.edu\n",
    "!ls"
   ]
  },
  {
   "cell_type": "code",
   "execution_count": null,
   "id": "6cb99f56-dd49-4f30-8221-9f158900dac3",
   "metadata": {
    "tags": []
   },
   "outputs": [],
   "source": [
    "!git add .\n",
    "!git commit -m \"Added updates from SageMaker notebooks\"\n",
    "!git push origin main\n"
   ]
  },
  {
   "cell_type": "code",
   "execution_count": null,
   "id": "9912b9bd-f96d-486c-af79-05669d3ed569",
   "metadata": {},
   "outputs": [],
   "source": []
  }
 ],
 "metadata": {
  "kernelspec": {
   "display_name": "conda_python3",
   "language": "python",
   "name": "conda_python3"
  },
  "language_info": {
   "codemirror_mode": {
    "name": "ipython",
    "version": 3
   },
   "file_extension": ".py",
   "mimetype": "text/x-python",
   "name": "python",
   "nbconvert_exporter": "python",
   "pygments_lexer": "ipython3",
   "version": "3.10.15"
  }
 },
 "nbformat": 4,
 "nbformat_minor": 5
}
